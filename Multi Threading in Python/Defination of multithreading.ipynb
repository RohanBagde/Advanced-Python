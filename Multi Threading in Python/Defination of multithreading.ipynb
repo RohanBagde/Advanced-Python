{
 "cells": [
  {
   "cell_type": "markdown",
   "metadata": {},
   "source": [
    "# Purpose of Multi Threading"
   ]
  },
  {
   "cell_type": "markdown",
   "metadata": {},
   "source": [
    "The main purpose of Multi Threading is that \"To Achieve the Concurrent Execution (Simultaneous / Concurrent Execution)\".\n"
   ]
  },
  {
   "cell_type": "markdown",
   "metadata": {},
   "source": [
    "# Types of application"
   ]
  },
  {
   "cell_type": "markdown",
   "metadata": {},
   "source": [
    "1) Process Based Application    :-  #old lang c,c++\n",
    "\n",
    "2) Thread Based Application"
   ]
  },
  {
   "cell_type": "markdown",
   "metadata": {},
   "source": [
    "# Thread Based Applications"
   ]
  },
  {
   "cell_type": "code",
   "execution_count": null,
   "metadata": {},
   "outputs": [],
   "source": []
  },
  {
   "cell_type": "markdown",
   "metadata": {},
   "source": [
    "# =>Definition of thread:\n",
    "-------------------------------\n",
    "=>A flow of control is called thread.\n",
    "------------------\n",
    "=>The purpose of therad is that \"To Execute any type of Operation Concurrently\"\n",
    "\t\t(OR)\n",
    "=>The purpose of therad is that \"To perform the operations whose logic is written in the \n",
    "    form of Methods / Functions(Methods are executed by therads).\"\n",
    "\n",
    "=>When we write any python program, there exists two types of therads. They are\n",
    "\t\t\ta) sub / child thread\n",
    "\t\t\tb) main thread\n",
    "=>The purpose of sub / child / foreground thread is thatto execute the operation concurrently whose logic is written in methods / Functions.\n",
    "=>The purpose of main is that \"To monitor the execution status of sub thread(s).\n",
    "=>By default, We have there exist a single thread and whose name is \"main\"\n",
    "=>Programatically, there is possibility of creating multiple sub / child threads  and they are monitored by single main thread."
   ]
  },
  {
   "cell_type": "code",
   "execution_count": null,
   "metadata": {},
   "outputs": [],
   "source": []
  }
 ],
 "metadata": {
  "kernelspec": {
   "display_name": "Python 3",
   "language": "python",
   "name": "python3"
  },
  "language_info": {
   "codemirror_mode": {
    "name": "ipython",
    "version": 3
   },
   "file_extension": ".py",
   "mimetype": "text/x-python",
   "name": "python",
   "nbconvert_exporter": "python",
   "pygments_lexer": "ipython3",
   "version": "3.8.5"
  }
 },
 "nbformat": 4,
 "nbformat_minor": 4
}
