{
 "cells": [
  {
   "cell_type": "markdown",
   "metadata": {},
   "source": [
    "# Approaches"
   ]
  },
  {
   "cell_type": "markdown",
   "metadata": {},
   "source": [
    "a) Creating a thread by using Functional Programming\n",
    "\n",
    "b) Creating a thread by using Sub Class of Thread class\n",
    "\n",
    "c) Creating a thread by using Non-Sub Class of Thread class."
   ]
  },
  {
   "cell_type": "code",
   "execution_count": null,
   "metadata": {},
   "outputs": [],
   "source": []
  },
  {
   "cell_type": "markdown",
   "metadata": {},
   "source": [
    "# Module Name :- threading"
   ]
  },
  {
   "cell_type": "markdown",
   "metadata": {},
   "source": [
    "=>Functions in threading module:\n",
    "    \n",
    "    1) currentThread()  (or) current_thread():\n",
    "    2) activecount()      "
   ]
  },
  {
   "cell_type": "markdown",
   "metadata": {},
   "source": [
    "# Classname in Threading Module"
   ]
  },
  {
   "cell_type": "markdown",
   "metadata": {},
   "source": [
    "1)Thread(target,args)\n",
    "\n",
    "2)setName(str)\n",
    "\n",
    "3)getName()\n",
    "\n",
    "4)start()\n",
    "\n",
    "5)start()\n",
    "\n",
    "6)run()\n",
    "\n",
    "7)join()\n",
    "\n",
    "8)is_alive()\n"
   ]
  },
  {
   "cell_type": "code",
   "execution_count": null,
   "metadata": {},
   "outputs": [],
   "source": []
  },
  {
   "cell_type": "markdown",
   "metadata": {},
   "source": [
    "# Thread And Non Thread "
   ]
  },
  {
   "cell_type": "code",
   "execution_count": 15,
   "metadata": {},
   "outputs": [
    {
     "name": "stdout",
     "output_type": "stream",
     "text": [
      "name of current thread= MainThread\n",
      "10 20 30\n",
      "squares(10)=100\n",
      "squares(20)=400\n",
      "squares(30)=900\n",
      "cubes(10)=1000\n",
      "cubes(20)=8000\n",
      "cubes(30)=27000\n"
     ]
    }
   ],
   "source": [
    "#nonthreadappl.py\n",
    "import time,threading\n",
    "def squares(k):\n",
    "    for val in k:\n",
    "        print(\"squares({})={}\".format(val,val**2))\n",
    "        time.sleep(2)\n",
    "def cubes(k):\n",
    "    for val in k:\n",
    "        print(\"cubes({})={}\".format(val,val**3))\n",
    "        time.sleep(2)\n",
    "   \n",
    "    \n",
    "\n",
    "#main program\n",
    "print(\"name of current thread=\",threading.current_thread().name)\n",
    "starttime=time.time()\n",
    "lst=[int(val) for val in input().split()]\n",
    "squares(lst)\n",
    "cubes(lst)\n",
    "endingtime=time.time()\n",
    "print(\"\\nTotal execution time={}\".formatat(starttime-endingtime))"
   ]
  },
  {
   "cell_type": "code",
   "execution_count": 7,
   "metadata": {},
   "outputs": [
    {
     "name": "stdout",
     "output_type": "stream",
     "text": [
      "Name of current thread= MainThread\n",
      "-------------------------------------------------------\n",
      "Enter List of values separated by space:\n",
      "10\n",
      "square(10)=100\n",
      "cubes(10)=1000\n",
      "-------------------------------------------------------\n",
      "\n",
      "Total Execution Time=4.151939630508423\n"
     ]
    }
   ],
   "source": [
    "#threadappl.py\n",
    "import time ,threading\n",
    "def   squares( k ):\n",
    "\tfor val in k:\n",
    "\t\tprint(\"square({})={}\".format(val, val**2))\n",
    "\t\ttime.sleep(2)\n",
    "def  cubes (k):\n",
    "\tfor val in k:\n",
    "\t\tprint(\"cubes({})={}\".format(val, val**3))\n",
    "\t\ttime.sleep(2)\n",
    "#main program\n",
    "print(\"Name of current thread=\",threading.current_thread().name)\n",
    "print(\"-------------------------------------------------------\")\n",
    "bt=time.time()\n",
    "print(\"Enter List of values separated by space:\")\n",
    "lst=[ int(val) for val in input().split() ]\n",
    "t1=threading.Thread(target=squares,args=(lst,))\n",
    "t2=threading.Thread(target=cubes,args=(lst,))\n",
    "t1.start()\n",
    "t2.start()\n",
    "t1.join()\n",
    "t2.join()\n",
    "et=time.time()\n",
    "print(\"-------------------------------------------------------\")\n",
    "print(\"\\nTotal Execution Time={}\".format(et-bt))"
   ]
  },
  {
   "cell_type": "code",
   "execution_count": null,
   "metadata": {},
   "outputs": [],
   "source": [
    "#NumGenex1.py\n",
    "import time\n",
    "from threading import *\n",
    "class Numbers(Thread):\n",
    "\tdef  run(self):\n",
    "\t\tprint(\"------------\n",
    "              -----------------------------\")\t\n",
    "\t\tprint(\"Name of Child Thread:{}\".format(self.name))\n",
    "\t\tprint(\"-----------------------------------------\")\n",
    "\t\tself.n=int(input(\"Enter a number:\"))\n",
    "\t\tif(self.n<=0):\n",
    "\t\t\tprint(\"{} is invalid input:\".format(self.n))\n",
    "\t\telse:\n",
    "\t\t\tprint(\"-----------------------------------------\")\n",
    "\t\t\tprint(\"Name of Child Thread:{}\".format(self.name))\n",
    "\t\t\tprint(\"-----------------------------------------\")\n",
    "\t\t\tfor i in range(1,self.n+1):\n",
    "\t\t\t\tprint(\"\\tVal of i: {}\".format(i))\n",
    "\t\t\t\ttime.sleep(1)\n",
    "\t\t\tprint(\"-----------------------------------------\")"
   ]
  }
 ],
 "metadata": {
  "kernelspec": {
   "display_name": "Python 3",
   "language": "python",
   "name": "python3"
  },
  "language_info": {
   "codemirror_mode": {
    "name": "ipython",
    "version": 3
   },
   "file_extension": ".py",
   "mimetype": "text/x-python",
   "name": "python",
   "nbconvert_exporter": "python",
   "pygments_lexer": "ipython3",
   "version": "3.8.5"
  }
 },
 "nbformat": 4,
 "nbformat_minor": 4
}
