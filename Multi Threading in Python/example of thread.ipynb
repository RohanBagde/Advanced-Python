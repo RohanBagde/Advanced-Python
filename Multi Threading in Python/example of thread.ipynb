{
 "cells": [
  {
   "cell_type": "code",
   "execution_count": 1,
   "metadata": {},
   "outputs": [
    {
     "name": "stdout",
     "output_type": "stream",
     "text": [
      "-------------------------------------------\n",
      "Current Thread Name : MainThread\n",
      "Number of Active Threads= 5\n",
      "-------------------------------------------\n",
      "\n",
      "Multi threading Programming started!\n",
      "To develop multi Threading , we use threading module and Thread class\n",
      "-------------------------------------------\n"
     ]
    }
   ],
   "source": [
    "#threadex1\n",
    "#threadex1.py\n",
    "import threading\n",
    "tname=threading.current_thread()\n",
    "print(\"-------------------------------------------\")\n",
    "print(\"Current Thread Name :\",tname.name)\n",
    "print(\"Number of Active Threads=\", threading.active_count())\n",
    "print(\"-------------------------------------------\")\n",
    "print(\"\\nMulti threading Programming started!\")\n",
    "print(\"To develop multi Threading , we use threading module and Thread class\")\n",
    "print(\"-------------------------------------------\")"
   ]
  },
  {
   "cell_type": "code",
   "execution_count": 2,
   "metadata": {},
   "outputs": [
    {
     "name": "stdout",
     "output_type": "stream",
     "text": [
      "Line-12,Name of the thread in main program:MainThread\n",
      "Line-4,Task1 performed by:MainThread\n",
      "Line-14\n",
      "Line-6,Task2 performed by:MainThread\n",
      "Line-16\n",
      "Line-8,Task3 performed by:MainThread\n",
      "Line-18\n",
      "Line-10, Task4 performed by:MainThread\n",
      "Total Number of threads = 5\n"
     ]
    }
   ],
   "source": [
    "#nonthreadex1.py\n",
    "import threading\n",
    "def   task1():\n",
    "\tprint(\"Line-4,Task1 performed by:{}\".format(threading.current_thread().name))\n",
    "def   task2():\n",
    "\tprint(\"Line-6,Task2 performed by:{}\".format(threading.current_thread().name))\n",
    "def   task3():\n",
    "\tprint(\"Line-8,Task3 performed by:{}\".format(threading.current_thread().name))\n",
    "def   task4():\n",
    "\tprint(\"Line-10, Task4 performed by:{}\".format(threading.current_thread().name))\n",
    "#main program\n",
    "print(\"Line-12,Name of the thread in main program:{}\".format(threading.current_thread().name))\n",
    "task1()\n",
    "print(\"Line-14\")\n",
    "task2()\n",
    "print(\"Line-16\")\n",
    "task3()\n",
    "print(\"Line-18\")\n",
    "task4()\n",
    "print(\"Total Number of threads =\",threading.active_count())"
   ]
  },
  {
   "cell_type": "markdown",
   "metadata": {},
   "source": [
    "# creating thread"
   ]
  },
  {
   "cell_type": "code",
   "execution_count": 4,
   "metadata": {},
   "outputs": [
    {
     "name": "stdout",
     "output_type": "stream",
     "text": [
      "Line-12,Name of the thread in main program:MainThread\n",
      "-------------------------------------------------------\n",
      "Line-4,Task1 performed by:Thread-6\n",
      "Line-6,Task2 performed by:Thread-7\n",
      "Line-8,Task3 performed by:Thread-8\n",
      "Line-10Task4 performed by:Thread-9\n"
     ]
    }
   ],
   "source": [
    "#threadex2.py\n",
    "import threading\n",
    "def   task1():\n",
    "\tprint(\"Line-4,Task1 performed by:{}\".format(threading.current_thread().name))#Thread-1\n",
    "def   task2():\n",
    "\tprint(\"Line-6,Task2 performed by:{}\".format(threading.current_thread().name))#Therad-2\n",
    "def   task3():\n",
    "\tprint(\"Line-8,Task3 performed by:{}\".format(threading.current_thread().name))#Therad-3\n",
    "def   task4():\n",
    "\tprint(\"Line-10Task4 performed by:{}\".format(threading.current_thread().name))#Therad-4\n",
    "\n",
    "#main program\n",
    "print(\"Line-12,Name of the thread in main program:{}\".format(threading.current_thread().name))# maintherad\n",
    "print(\"-------------------------------------------------------\")\n",
    "t1=threading.Thread(target=task1)  #creating sub / child thread-Therad-1 \n",
    "t2=threading.Thread(target=task2)  #creating sub / child thread-Therad-2\n",
    "t3=threading.Thread(target=task3)  #creating sub / child thread -Therad-3\n",
    "t4=threading.Thread(target=task4)  #creating sub / child thread -Therad-4\n",
    "#dispatch the sub threads.\n",
    "t1.start()\n",
    "t2.start()\n",
    "t3.start()\n",
    "t4.start()\n"
   ]
  },
  {
   "cell_type": "code",
   "execution_count": 5,
   "metadata": {},
   "outputs": [
    {
     "name": "stdout",
     "output_type": "stream",
     "text": [
      "Line-12,Name of the thread in main program:MainThread\n",
      "-------------------------------------------------------\n",
      "Line-4,Task1 performed by:Person1\n",
      "Line-6,Task2 performed by:Person2\n",
      "Line-8,Task3 performed by:Person3\n",
      "Line-10Task4 performed by:Person4\n"
     ]
    }
   ],
   "source": [
    "#threadex3.py\n",
    "import threading\n",
    "def   task1():\n",
    "\tprint(\"Line-4,Task1 performed by:{}\".format(threading.current_thread().name))#Thread-1\n",
    "def   task2():\n",
    "\tprint(\"Line-6,Task2 performed by:{}\".format(threading.current_thread().name))#Therad-2\n",
    "def   task3():\n",
    "\tprint(\"Line-8,Task3 performed by:{}\".format(threading.current_thread().name))#Therad-3\n",
    "def   task4():\n",
    "\tprint(\"Line-10Task4 performed by:{}\".format(threading.current_thread().name))#Therad-4\n",
    "\n",
    "#main program\n",
    "print(\"Line-12,Name of the thread in main program:{}\".format(threading.current_thread().name))# maintherad\n",
    "print(\"-------------------------------------------------------\")\n",
    "t1=threading.Thread(target=task1)  #creating sub / child thread-Therad-1 \n",
    "t2=threading.Thread(target=task2)  #creating sub / child thread-Therad-2\n",
    "t3=threading.Thread(target=task3)  #creating sub / child thread -Therad-3\n",
    "t4=threading.Thread(target=task4)  #creating sub / child thread -Therad-4\n",
    "#set user-friendly names to the sub threads\n",
    "t1.name=\"Person1\"\n",
    "t2.name=\"Person2\"\n",
    "t3.name=\"Person3\"\n",
    "t4.name=\"Person4\"\n",
    "#dispatch the sub threads.\n",
    "t1.start()\n",
    "t2.start()\n",
    "t3.start()\n",
    "t4.start()\n"
   ]
  },
  {
   "cell_type": "code",
   "execution_count": 9,
   "metadata": {},
   "outputs": [
    {
     "name": "stdout",
     "output_type": "stream",
     "text": [
      "Line-12,Name of the thread in main program:MainThread\n",
      "-------------------------------------------------------\n",
      "\n",
      "Line-33, Total Number of Active Threads=9\n",
      "Line-4,Task1 performed by:Person1\n",
      "Line-10Task4 performed by:Person4\n",
      "Line-8,Task3 performed by:Person3\n",
      "Line-6,Task2 performed by:Person2\n"
     ]
    }
   ],
   "source": [
    "#threadex4.py\n",
    "import threading,time\n",
    "def   task1():\n",
    "\ttime.sleep(3)\n",
    "\tprint(\"Line-4,Task1 performed by:{}\".format(threading.current_thread().name))#Thread-1\n",
    "def   task2():\n",
    "\ttime.sleep(3)\n",
    "\tprint(\"Line-6,Task2 performed by:{}\".format(threading.current_thread().name))#Therad-2\n",
    "def   task3():\n",
    "\ttime.sleep(3)\n",
    "\tprint(\"Line-8,Task3 performed by:{}\".format(threading.current_thread().name))#Therad-3\n",
    "def   task4():\n",
    "\ttime.sleep(3)\n",
    "\tprint(\"Line-10Task4 performed by:{}\".format(threading.current_thread().name))#Therad-4\n",
    "\n",
    "#main program\n",
    "print(\"Line-12,Name of the thread in main program:{}\".format(threading.current_thread().name))# maintherad\n",
    "print(\"-------------------------------------------------------\")\n",
    "t1=threading.Thread(target=task1)  #creating sub / child thread-Therad-1 \n",
    "t2=threading.Thread(target=task2)  #creating sub / child thread-Therad-2\n",
    "t3=threading.Thread(target=task3)  #creating sub / child thread -Therad-3\n",
    "t4=threading.Thread(target=task4)  #creating sub / child thread -Therad-4\n",
    "#set user-friendly names to the sub threads\n",
    "t1.name=\"Person1\"\n",
    "t2.name=\"Person2\"\n",
    "t3.name=\"Person3\"\n",
    "t4.name=\"Person4\"\n",
    "#dispatch the sub threads.\n",
    "t1.start()\n",
    "t2.start()\n",
    "t3.start()\n",
    "t4.start()\n",
    "print(\"\\nLine-33, Total Number of Active Threads={}\".format(threading.active_count())) "
   ]
  },
  {
   "cell_type": "code",
   "execution_count": 2,
   "metadata": {},
   "outputs": [
    {
     "name": "stdout",
     "output_type": "stream",
     "text": [
      "Line-12,Name of the thread in main program:MainThread\n",
      "-------------------------------------------------------\n",
      "\n",
      "Line-33, Total Number of Active Threads=9\n",
      "Line-8,Task3 performed by:Person3\n",
      "Line-6,Task2 performed by:Person2\n",
      "Line-4,Task1 performed by:Person1\n",
      "Line-10Task4 performed by:Person4\n"
     ]
    }
   ],
   "source": [
    "#threadex4.py\n",
    "import threading,time\n",
    "def   task1():\n",
    "\ttime.sleep(3)\n",
    "\tprint(\"Line-4,Task1 performed by:{}\".format(threading.current_thread().name))#Thread-1\n",
    "def   task2():\n",
    "\ttime.sleep(3)\n",
    "\tprint(\"Line-6,Task2 performed by:{}\".format(threading.current_thread().name))#Therad-2\n",
    "def   task3():\n",
    "\ttime.sleep(3)\n",
    "\tprint(\"Line-8,Task3 performed by:{}\".format(threading.current_thread().name))#Therad-3\n",
    "def   task4():\n",
    "\ttime.sleep(3)\n",
    "\tprint(\"Line-10Task4 performed by:{}\".format(threading.current_thread().name))#Therad-4\n",
    "\n",
    "#main program\n",
    "print(\"Line-12,Name of the thread in main program:{}\".format(threading.current_thread().name))# maintherad\n",
    "print(\"-------------------------------------------------------\")\n",
    "t1=threading.Thread(target=task1)  #creating sub / child thread-Therad-1 \n",
    "t2=threading.Thread(target=task2)  #creating sub / child thread-Therad-2\n",
    "t3=threading.Thread(target=task3)  #creating sub / child thread -Therad-3\n",
    "t4=threading.Thread(target=task4)  #creating sub / child thread -Therad-4\n",
    "#set user-friendly names to the sub threads\n",
    "t1.name=\"Person1\"\n",
    "t2.name=\"Person2\"\n",
    "t3.name=\"Person3\"\n",
    "t4.name=\"Person4\"\n",
    "#dispatch the sub threads.\n",
    "t1.start()\n",
    "t2.start()\n",
    "t3.start()\n",
    "t4.start()\n",
    "print(\"\\nLine-33, Total Number of Active Threads={}\".format(threading.active_count())) \n"
   ]
  },
  {
   "cell_type": "code",
   "execution_count": 10,
   "metadata": {},
   "outputs": [
    {
     "name": "stdout",
     "output_type": "stream",
     "text": [
      "Line-12,Name of the thread in main program:MainThread\n",
      "-------------------------------------------------------\n",
      "Line-4,Task1 performed by:Person1\n",
      "Line-10Task4 performed by:Person4\n",
      "Line-6,Task2 performed by:Person2\n",
      "Line-8,Task3 performed by:Person3\n",
      "\n",
      "Line-38-->Total Number of Active Threads=5\n"
     ]
    }
   ],
   "source": [
    "#threadex5.py\n",
    "import threading,time\n",
    "def   task1():\n",
    "\ttime.sleep(3)\n",
    "\tprint(\"Line-4,Task1 performed by:{}\".format(threading.current_thread().name))#Person1\n",
    "def   task2():\n",
    "\ttime.sleep(3)\n",
    "\tprint(\"Line-6,Task2 performed by:{}\".format(threading.current_thread().name))#Person2\n",
    "def   task3():\n",
    "\ttime.sleep(3)\n",
    "\tprint(\"Line-8,Task3 performed by:{}\".format(threading.current_thread().name))#Person3\n",
    "def   task4():\n",
    "\ttime.sleep(3)\n",
    "\tprint(\"Line-10Task4 performed by:{}\".format(threading.current_thread().name))#Person4\n",
    "\n",
    "#main program\n",
    "print(\"Line-12,Name of the thread in main program:{}\".format(threading.current_thread().name))# maintherad\n",
    "print(\"-------------------------------------------------------\")\n",
    "t1=threading.Thread(target=task1)  #creating sub / child thread-Therad-1 \n",
    "t2=threading.Thread(target=task2)  #creating sub / child thread-Therad-2\n",
    "t3=threading.Thread(target=task3)  #creating sub / child thread -Therad-3\n",
    "t4=threading.Thread(target=task4)  #creating sub / child thread -Therad-4\n",
    "#set user-friendly names to the sub threads\n",
    "t1.name=\"Person1\"\n",
    "t2.name=\"Person2\"\n",
    "t3.name=\"Person3\"\n",
    "t4.name=\"Person4\"\n",
    "#dispatch the sub threads.\n",
    "t1.start()\n",
    "t2.start()\n",
    "t3.start()\n",
    "t4.start()\n",
    "#joing the sub threads as a single unit\n",
    "t1.join()\n",
    "t2.join()\n",
    "t3.join()\n",
    "t4.join()\n",
    "print(\"\\nLine-38-->Total Number of Active Threads={}\".format(threading.active_count()))# 1"
   ]
  },
  {
   "cell_type": "code",
   "execution_count": 11,
   "metadata": {},
   "outputs": [
    {
     "name": "stdout",
     "output_type": "stream",
     "text": [
      "Line-12,Name of the thread in main program:MainThread\n",
      "-------------------------------------------------------\n",
      "\n",
      "Line-29-->Total Number of Active Threads=5\n",
      "\n",
      "Line-30-Execution status of t1 after start and before join= False\n",
      "Line-31-Execution status of t2 after start and before join= False\n",
      "Line-32-Execution status of t3 after start and before join= False\n",
      "Line-33-Execution status of t4 after start and before join= False\n",
      "\n",
      "Line-40-->Total Number of Active Threads=9\n",
      "\n",
      "Line-41-Execution status of t1 after start and before join= True\n",
      "Line-42-Execution status of t2 after start and before join= True\n",
      "Line-43-Execution status of t3 after start and before join= True\n",
      "Line-44-Execution status of t4 after start and before join= True\n",
      "Line-4,Task1 performed by:Person1\n",
      "Line-8,Task3 performed by:Person3Line-6,Task2 performed by:Person2\n",
      "Line-10Task4 performed by:Person4\n",
      "\n",
      "\n",
      "Line-51-->Total Number of Active Threads=5\n",
      "\n",
      "Line-52-Execution status of t1 after  join= False\n",
      "Line-53-Execution status of t2 after  join= False\n",
      "Line-54-Execution status of t3 after  join= False\n",
      "Line-55-Execution status of t4 after  join= False\n",
      "\n",
      "Line-56-->Total Number of Active Threads=5\n"
     ]
    }
   ],
   "source": [
    "#threadex6.py\n",
    "import threading,time\n",
    "def   task1():\n",
    "\ttime.sleep(5)\n",
    "\tprint(\"Line-4,Task1 performed by:{}\".format(threading.current_thread().name))#Thread-1\n",
    "def   task2():\n",
    "\ttime.sleep(5)\n",
    "\tprint(\"Line-6,Task2 performed by:{}\".format(threading.current_thread().name))#Therad-2\n",
    "def   task3():\n",
    "\ttime.sleep(5)\n",
    "\tprint(\"Line-8,Task3 performed by:{}\".format(threading.current_thread().name))#Therad-3\n",
    "def   task4():\n",
    "\ttime.sleep(5)\n",
    "\tprint(\"Line-10Task4 performed by:{}\".format(threading.current_thread().name))#Therad-4\n",
    "\n",
    "#main program\n",
    "print(\"Line-12,Name of the thread in main program:{}\".format(threading.current_thread().name))# maintherad\n",
    "print(\"-------------------------------------------------------\")\n",
    "t1=threading.Thread(target=task1)  #creating sub / child thread-Therad-1 \n",
    "t2=threading.Thread(target=task2)  #creating sub / child thread-Therad-2\n",
    "t3=threading.Thread(target=task3)  #creating sub / child thread -Therad-3\n",
    "t4=threading.Thread(target=task4)  #creating sub / child thread -Therad-4\n",
    "#set user-friendly names to the sub threads\n",
    "t1.name=\"Person1\"\n",
    "t2.name=\"Person2\"\n",
    "t3.name=\"Person3\"\n",
    "t4.name=\"Person4\"\n",
    "#Decide the execution status before start()\n",
    "print(\"\\nLine-29-->Total Number of Active Threads={}\".format(threading.active_count()))#1\n",
    "print(\"\\nLine-30-Execution status of t1 after start and before join=\",t1.is_alive())#False\n",
    "print(\"Line-31-Execution status of t2 after start and before join=\",t2.is_alive())#False\n",
    "print(\"Line-32-Execution status of t3 after start and before join=\",t3.is_alive())#False\n",
    "print(\"Line-33-Execution status of t4 after start and before join=\",t4.is_alive())#False\n",
    "#dispatch the sub threads.\n",
    "t1.start()\n",
    "t2.start()\n",
    "t3.start()\n",
    "t4.start()\n",
    "#Decide the execution status after start()\n",
    "print(\"\\nLine-40-->Total Number of Active Threads={}\".format(threading.active_count()))# 5\n",
    "print(\"\\nLine-41-Execution status of t1 after start and before join=\",t1.is_alive())#True\n",
    "print(\"Line-42-Execution status of t2 after start and before join=\",t2.is_alive())#True\n",
    "print(\"Line-43-Execution status of t3 after start and before join=\",t3.is_alive())#True\n",
    "print(\"Line-44-Execution status of t4 after start and before join=\",t4.is_alive())#True\n",
    "#joing the sub threads as a single unit\n",
    "t1.join()\n",
    "t2.join()\n",
    "t3.join()\n",
    "t4.join()\n",
    "#Decide the execution status after join()\n",
    "print(\"\\nLine-51-->Total Number of Active Threads={}\".format(threading.active_count()))# 5\n",
    "print(\"\\nLine-52-Execution status of t1 after  join=\",t1.is_alive())#False\n",
    "print(\"Line-53-Execution status of t2 after  join=\",t2.is_alive())#False\n",
    "print(\"Line-54-Execution status of t3 after  join=\",t3.is_alive())#False\n",
    "print(\"Line-55-Execution status of t4 after  join=\",t4.is_alive())#False\n",
    "print(\"\\nLine-56-->Total Number of Active Threads={}\".format(threading.active_count()))# 1\n"
   ]
  },
  {
   "cell_type": "code",
   "execution_count": 14,
   "metadata": {},
   "outputs": [
    {
     "name": "stdout",
     "output_type": "stream",
     "text": [
      "Name of the thread in main program:MainThread\n",
      "\n",
      "Execution status of t before start=False\n",
      "Total Number of Active Threads=5\n",
      "val of i by KVR=1\n",
      "Execution status of t after start=True\n",
      "Total Number of Active Threads=6\n",
      "\n",
      "val of i by KVR=2\n",
      "val of i by KVR=3\n",
      "val of i by KVR=4\n",
      "val of i by KVR=5\n",
      "val of i by KVR=6\n",
      "val of i by KVR=7\n",
      "val of i by KVR=8\n",
      "val of i by KVR=9\n",
      "val of i by KVR=10\n",
      "\n",
      "Execution status of t after join=False\n",
      "Total Number of Active Threads=5\n"
     ]
    }
   ],
   "source": [
    "#approachno1.py\n",
    "import threading,time\n",
    "def  generate(n):\n",
    "\tfor i in range(1,n+1):\n",
    "\t\tprint(\"val of i by {}={}\".format(threading.current_thread().name, i))\n",
    "\t\ttime.sleep(5)\n",
    "\n",
    "#main program\n",
    "print(\"Name of the thread in main program:{}\".format(threading.current_thread().name))# maintherad\n",
    "t=threading.Thread(target=generate,args=(10,))\n",
    "t.name=\"KVR\"\n",
    "print(\"\\nExecution status of t before start={}\".format(t.is_alive())) # False\n",
    "print(\"Total Number of Active Threads={}\".format(threading.active_count()))#1\n",
    "t.start()\n",
    "print(\"\\nExecution status of t after start={}\".format(t.is_alive())) # True\n",
    "print(\"Total Number of Active Threads={}\".format(threading.active_count()))#2\n",
    "t.join()\n",
    "print(\"\\nExecution status of t after join={}\".format(t.is_alive())) # True\n",
    "print(\"Total Number of Active Threads={}\".format(threading.active_count()))#1"
   ]
  },
  {
   "cell_type": "code",
   "execution_count": null,
   "metadata": {},
   "outputs": [],
   "source": []
  }
 ],
 "metadata": {
  "kernelspec": {
   "display_name": "Python 3",
   "language": "python",
   "name": "python3"
  },
  "language_info": {
   "codemirror_mode": {
    "name": "ipython",
    "version": 3
   },
   "file_extension": ".py",
   "mimetype": "text/x-python",
   "name": "python",
   "nbconvert_exporter": "python",
   "pygments_lexer": "ipython3",
   "version": "3.8.5"
  }
 },
 "nbformat": 4,
 "nbformat_minor": 4
}
