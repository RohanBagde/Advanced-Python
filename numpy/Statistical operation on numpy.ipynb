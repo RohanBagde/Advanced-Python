{
 "cells": [
  {
   "cell_type": "markdown",
   "metadata": {},
   "source": [
    "# types of statistical operation"
   ]
  },
  {
   "cell_type": "code",
   "execution_count": null,
   "metadata": {},
   "outputs": [],
   "source": [
    "#amax()\n",
    "#amin()\n",
    "#mean()\n",
    "#median()\n",
    "#varience() or var()\n",
    "#standard deviation or std()"
   ]
  },
  {
   "cell_type": "markdown",
   "metadata": {},
   "source": [
    "# 1)amax"
   ]
  },
  {
   "cell_type": "code",
   "execution_count": 4,
   "metadata": {},
   "outputs": [
    {
     "name": "stdout",
     "output_type": "stream",
     "text": [
      "[[10 20 30]\n",
      " [40 50 60]\n",
      " [ 1 11 45]]\n",
      "60\n"
     ]
    }
   ],
   "source": [
    "#use for finding max values from array\n",
    "#syntax:-  obj=numpy.amax(ndarray)\n",
    "\n",
    "\n",
    "import numpy as np\n",
    "\n",
    "a=np.array([[10,20,30],[40,50,60],[1,11,45]])\n",
    "print(a)\n",
    "maxv=np.amax(a)\n",
    "print(maxv)"
   ]
  },
  {
   "cell_type": "code",
   "execution_count": 7,
   "metadata": {},
   "outputs": [
    {
     "name": "stdout",
     "output_type": "stream",
     "text": [
      "[40 50 60]\n"
     ]
    }
   ],
   "source": [
    "#column vise maximum value i want to find  note:-(0=column),(1=row)\n",
    "colmax=np.amax(a,axis=0)\n",
    "print(colmax)\n"
   ]
  },
  {
   "cell_type": "markdown",
   "metadata": {},
   "source": [
    "# 2)amin():"
   ]
  },
  {
   "cell_type": "code",
   "execution_count": 8,
   "metadata": {},
   "outputs": [
    {
     "name": "stdout",
     "output_type": "stream",
     "text": [
      "[[10 20 30]\n",
      " [40 50 60]\n",
      " [ 1 11 45]]\n",
      "1\n"
     ]
    }
   ],
   "source": [
    "#use for finding min values from array\n",
    "#syntax:-  obj=numpy.amin(ndarray)\n",
    "\n",
    "\n",
    "import numpy as np\n",
    "\n",
    "a=np.array([[10,20,30],[40,50,60],[1,11,45]])\n",
    "print(a)\n",
    "minv=np.amin(a)\n",
    "print(minv)"
   ]
  },
  {
   "cell_type": "code",
   "execution_count": 9,
   "metadata": {},
   "outputs": [
    {
     "name": "stdout",
     "output_type": "stream",
     "text": [
      "[10 40  1]\n"
     ]
    }
   ],
   "source": [
    "#row vise minimum value i want to find  note:-(0=column),(1=row)\n",
    "rmin=np.amin(a,axis=1)\n",
    "print(rmin)\n"
   ]
  },
  {
   "cell_type": "markdown",
   "metadata": {},
   "source": [
    "# 3)mean():"
   ]
  },
  {
   "cell_type": "code",
   "execution_count": null,
   "metadata": {},
   "outputs": [],
   "source": [
    "#sum of all elements of array divided by total number of elements in aaray\n",
    "#syntax:-  obj=numpy.mean(ndarray)\n",
    "#syntax:-  obj=numpy.mean(ndarray,axis=0)---------->for columns\n",
    "#syntax:-  obj=numpy.mean(ndarray,axis=1)---------->for rows"
   ]
  },
  {
   "cell_type": "code",
   "execution_count": 12,
   "metadata": {},
   "outputs": [
    {
     "name": "stdout",
     "output_type": "stream",
     "text": [
      "[[10 20 30]\n",
      " [40 50 60]\n",
      " [ 1 11 45]]\n",
      "29.666666666666668\n"
     ]
    }
   ],
   "source": [
    "import numpy as np\n",
    "\n",
    "a=np.array([[10,20,30],[40,50,60],[1,11,45]])\n",
    "print(a)\n",
    "res=np.mean(a)\n",
    "print(res)"
   ]
  },
  {
   "cell_type": "code",
   "execution_count": 13,
   "metadata": {},
   "outputs": [
    {
     "name": "stdout",
     "output_type": "stream",
     "text": [
      "[17. 27. 45.]\n"
     ]
    }
   ],
   "source": [
    "#for calculate mean value of columns\n",
    "c=np.mean(a,axis=0)\n",
    "print(c)"
   ]
  },
  {
   "cell_type": "code",
   "execution_count": 15,
   "metadata": {},
   "outputs": [
    {
     "name": "stdout",
     "output_type": "stream",
     "text": [
      "[20. 50. 19.]\n"
     ]
    }
   ],
   "source": [
    "#for calculate mean value of row\n",
    "r=np.mean(a,axis=1)\n",
    "print(r)"
   ]
  },
  {
   "cell_type": "markdown",
   "metadata": {},
   "source": [
    "# 4)median():"
   ]
  },
  {
   "cell_type": "code",
   "execution_count": 18,
   "metadata": {},
   "outputs": [
    {
     "name": "stdout",
     "output_type": "stream",
     "text": [
      "[[10 20 30]\n",
      " [40 50 60]\n",
      " [ 1 11 45]]\n",
      "30.0\n"
     ]
    }
   ],
   "source": [
    "#first matrx arrange values in accending value ex:-(1, 10, 11, 20,30,40,45,50,60) median=30\n",
    "#center value finds\n",
    "\n",
    "import numpy as np\n",
    "\n",
    "\n",
    "a=np.array([[10,20,30],[40,50,60],[1,11,45]])\n",
    "print(a)\n",
    "md=np.median(a)\n",
    "print(md)"
   ]
  },
  {
   "cell_type": "code",
   "execution_count": 26,
   "metadata": {},
   "outputs": [
    {
     "name": "stdout",
     "output_type": "stream",
     "text": [
      "[[10 20 30]\n",
      " [40 50 60]\n",
      " [ 1 11 45]]\n",
      "\n",
      "[10. 20. 45.] "
     ]
    }
   ],
   "source": [
    "#to find medium column wise\n",
    "import numpy as np\n",
    "a=np.array([[10,20,30],[40,50,60],[1,11,45]])\n",
    "print(a)\n",
    "colmed=np.median(a,axis=0)\n",
    "print()\n",
    "\n",
    "print(colmed)\n"
   ]
  },
  {
   "cell_type": "code",
   "execution_count": 27,
   "metadata": {},
   "outputs": [
    {
     "name": "stdout",
     "output_type": "stream",
     "text": [
      "[[10 20 30]\n",
      " [40 50 60]\n",
      " [ 1 11 45]]\n",
      "\n",
      "[20. 50. 11.]\n"
     ]
    }
   ],
   "source": [
    "#to find medium row wise\n",
    "import numpy as np\n",
    "a=np.array([[10,20,30],[40,50,60],[1,11,45]])\n",
    "print(a)\n",
    "rowmed=np.median(a,axis=1)\n",
    "print()\n",
    "\n",
    "print(rowmed)"
   ]
  },
  {
   "cell_type": "markdown",
   "metadata": {},
   "source": [
    "# 4)var():"
   ]
  },
  {
   "cell_type": "code",
   "execution_count": null,
   "metadata": {},
   "outputs": [],
   "source": [
    "#\n",
    "#formula:-  variance=square(xi-mean)/total numbers of elements\n",
    "\n",
    "\n",
    "#syntax:-   obj=numpy.var(ndarrayobj)\n",
    "#syntax:-  obj=numpy.var(ndarray,axis=0)----> var for column wise\n",
    "#syntax:-  obj=numpy.var(ndarray,axis=1)----> var for row wise"
   ]
  },
  {
   "cell_type": "code",
   "execution_count": 36,
   "metadata": {},
   "outputs": [
    {
     "name": "stdout",
     "output_type": "stream",
     "text": [
      "[[10 20 30]\n",
      " [40 50 60]\n",
      " [ 1 11 45]]\n",
      "\n",
      "mean: 29.666666666666668\n",
      "var: 369.55555555555554\n"
     ]
    }
   ],
   "source": [
    "import numpy as np\n",
    "\n",
    "a=np.array([[10,20,30],[40,50,60],[1,11,45]])\n",
    "print(a)\n",
    "m=np.mean(a)\n",
    "\n",
    "print()\n",
    "print(\"mean:\",m)\n",
    "s=np.var(a)\n",
    "\n",
    "print(\"var:\",s)  #how it is work  (10-29)^2+(20-29)^2+(30-29)^2+(40-29)^2....../9=29.666"
   ]
  },
  {
   "cell_type": "code",
   "execution_count": 41,
   "metadata": {},
   "outputs": [
    {
     "name": "stdout",
     "output_type": "stream",
     "text": [
      "29.666666666666668\n",
      "369.55555555555554\n",
      "[278. 278. 150.]\n"
     ]
    }
   ],
   "source": [
    "#var for column wise\n",
    "x=np.mean(a)\n",
    "print(x)\n",
    "var=np.var(a)\n",
    "print(var)\n",
    "varc=np.var(a,axis=0)\n",
    "print(varc)"
   ]
  },
  {
   "cell_type": "code",
   "execution_count": 42,
   "metadata": {},
   "outputs": [
    {
     "name": "stdout",
     "output_type": "stream",
     "text": [
      "29.666666666666668\n",
      "369.55555555555554\n",
      "[ 66.66666667  66.66666667 354.66666667]\n"
     ]
    }
   ],
   "source": [
    "#var for row wise\n",
    "x=np.mean(a)\n",
    "print(x)\n",
    "var=np.var(a)\n",
    "print(var)\n",
    "varr=np.var(a,axis=1)\n",
    "print(varr)"
   ]
  },
  {
   "cell_type": "markdown",
   "metadata": {},
   "source": [
    "# 5)std():"
   ]
  },
  {
   "cell_type": "code",
   "execution_count": null,
   "metadata": {},
   "outputs": [],
   "source": [
    "#std means square root of var\n",
    "\n",
    "#formula for standard deviation --> std=sqrt(var)\n",
    "\n",
    "\n",
    "#syntax:-   obj=numpy.std(ndarrayobj)\n",
    "#syntax:-  obj=numpy.std(ndarray,axis=0)----> std for column wise\n",
    "#syntax:-  obj=numpy.std(ndarray,axis=1)----> std for row wise"
   ]
  },
  {
   "cell_type": "code",
   "execution_count": 47,
   "metadata": {},
   "outputs": [
    {
     "name": "stdout",
     "output_type": "stream",
     "text": [
      "[[10 20 30]\n",
      " [40 50 60]\n",
      " [ 1 11 45]]\n",
      "var 369.55555555555554\n",
      "std 19.223827807061618\n"
     ]
    }
   ],
   "source": [
    "import numpy as np\n",
    "\n",
    "a=np.array([[10,20,30],[40,50,60],[1,11,45]])\n",
    "print(a)\n",
    "var=np.var(a)\n",
    "print(\"var\",var)\n",
    "sd=np.std(a)\n",
    "print(\"std\",sd)"
   ]
  },
  {
   "cell_type": "code",
   "execution_count": null,
   "metadata": {},
   "outputs": [],
   "source": []
  },
  {
   "cell_type": "code",
   "execution_count": null,
   "metadata": {},
   "outputs": [],
   "source": []
  }
 ],
 "metadata": {
  "kernelspec": {
   "display_name": "Python 3",
   "language": "python",
   "name": "python3"
  },
  "language_info": {
   "codemirror_mode": {
    "name": "ipython",
    "version": 3
   },
   "file_extension": ".py",
   "mimetype": "text/x-python",
   "name": "python",
   "nbconvert_exporter": "python",
   "pygments_lexer": "ipython3",
   "version": "3.8.5"
  }
 },
 "nbformat": 4,
 "nbformat_minor": 4
}
