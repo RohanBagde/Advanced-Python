{
 "cells": [
  {
   "cell_type": "markdown",
   "metadata": {},
   "source": [
    "# boolean array"
   ]
  },
  {
   "cell_type": "code",
   "execution_count": 5,
   "metadata": {},
   "outputs": [
    {
     "name": "stdout",
     "output_type": "stream",
     "text": [
      "[ 10  -5  12  -4 -10   1   4]\n",
      "[False  True False  True  True False False]\n",
      "[ -5  -4 -10]\n"
     ]
    }
   ],
   "source": [
    "#step1:-prepared boolean aaray, ehich contains tre and false values\n",
    "#syntax: obj=ndarray with condition\n",
    "#step2:- pass the boolean aaray obj to ndarray object\n",
    "#syntax:-obj=ndarray[booleanarray]\n",
    "\n",
    "\n",
    "\n",
    "#obtain negative numbers\n",
    "\n",
    "import numpy as np\n",
    "p=np.array([10,-5,12,-4,-10,1,4])\n",
    "print(p)\n",
    "a=p<0\n",
    "print(a)\n",
    "print(p[a])"
   ]
  },
  {
   "cell_type": "code",
   "execution_count": 6,
   "metadata": {},
   "outputs": [
    {
     "name": "stdout",
     "output_type": "stream",
     "text": [
      "[ -5  -4 -10]\n"
     ]
    }
   ],
   "source": [
    "#approach number 2\n",
    "#shortcut\n",
    "import numpy as np\n",
    "p=np.array([10,-5,12,-4,-10,1,4])\n",
    "z=p[p<0]\n",
    "print(z)"
   ]
  },
  {
   "cell_type": "code",
   "execution_count": 7,
   "metadata": {},
   "outputs": [
    {
     "name": "stdout",
     "output_type": "stream",
     "text": [
      "[ 10  -5  12  -4 -10   1   4]\n",
      "[ True False  True False False  True  True]\n",
      "[10 12  1  4]\n"
     ]
    }
   ],
   "source": [
    "#step1:-prepared boolean aaray, ehich contains tre and false values\n",
    "#syntax: obj=ndarray with condition\n",
    "#step2:- pass the boolean aaray obj to ndarray object\n",
    "#syntax:-obj=ndarray[booleanarray]\n",
    "\n",
    "\n",
    "\n",
    "#obtain positive numbers\n",
    "\n",
    "import numpy as np\n",
    "p=np.array([10,-5,12,-4,-10,1,4])\n",
    "print(p)\n",
    "a=p>0\n",
    "print(a)\n",
    "print(p[a])"
   ]
  },
  {
   "cell_type": "code",
   "execution_count": 8,
   "metadata": {},
   "outputs": [
    {
     "name": "stdout",
     "output_type": "stream",
     "text": [
      "[10 12  1  4]\n"
     ]
    }
   ],
   "source": [
    "#approach number 2\n",
    "#shortcut\n",
    "import numpy as np\n",
    "p=np.array([10,-5,12,-4,-10,1,4])\n",
    "z=p[p>0]\n",
    "print(z)"
   ]
  },
  {
   "cell_type": "code",
   "execution_count": 12,
   "metadata": {},
   "outputs": [
    {
     "name": "stdout",
     "output_type": "stream",
     "text": [
      "[ 1  2  3 17  5  6 21 22 19]\n",
      "odd numbers are: [ 1  3 17  5 21 19]\n",
      "even nmbers are: [ 2  6 22]\n"
     ]
    }
   ],
   "source": [
    "#obtain odd and even nmbers from ndarray ob\n",
    "\n",
    "import numpy as np\n",
    "a=np.array([1,2,3,17,5,6,21,22,19])\n",
    "print(a)\n",
    "od=a[a%2!=0]\n",
    "eve=a[a%2==0]\n",
    "print(\"odd numbers are:\",od)\n",
    "print(\"even nmbers are:\",eve)\n"
   ]
  },
  {
   "cell_type": "code",
   "execution_count": null,
   "metadata": {},
   "outputs": [],
   "source": []
  }
 ],
 "metadata": {
  "kernelspec": {
   "display_name": "Python 3",
   "language": "python",
   "name": "python3"
  },
  "language_info": {
   "codemirror_mode": {
    "name": "ipython",
    "version": 3
   },
   "file_extension": ".py",
   "mimetype": "text/x-python",
   "name": "python",
   "nbconvert_exporter": "python",
   "pygments_lexer": "ipython3",
   "version": "3.8.5"
  }
 },
 "nbformat": 4,
 "nbformat_minor": 4
}
