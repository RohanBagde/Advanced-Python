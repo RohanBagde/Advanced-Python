{
 "cells": [
  {
   "cell_type": "code",
   "execution_count": 6,
   "metadata": {},
   "outputs": [
    {
     "name": "stdout",
     "output_type": "stream",
     "text": [
      "types of recs= <class 'pandas.core.frame.DataFrame'>\n",
      "   stno         name  marks\n",
      "0    10     goldberg     44\n",
      "1    20    john cena     55\n",
      "2    30      cm punk     66\n",
      "3    40  randy ortan     77\n"
     ]
    }
   ],
   "source": [
    "import pandas as pd1 \n",
    "rec=pd1.read_csv(\"std.csv\")\n",
    "print(\"types of recs=\",type(rec))\n",
    "print(rec)"
   ]
  },
  {
   "cell_type": "markdown",
   "metadata": {},
   "source": [
    "retrive the data"
   ]
  },
  {
   "cell_type": "code",
   "execution_count": 8,
   "metadata": {},
   "outputs": [
    {
     "name": "stdout",
     "output_type": "stream",
     "text": [
      "randy ortan\n"
     ]
    }
   ],
   "source": [
    "print(rec.loc[3,\"name\"])"
   ]
  },
  {
   "cell_type": "code",
   "execution_count": 10,
   "metadata": {},
   "outputs": [
    {
     "name": "stdout",
     "output_type": "stream",
     "text": [
      "55\n"
     ]
    }
   ],
   "source": [
    "print(rec.loc[1,\"marks\"])"
   ]
  },
  {
   "cell_type": "code",
   "execution_count": 11,
   "metadata": {},
   "outputs": [
    {
     "name": "stdout",
     "output_type": "stream",
     "text": [
      "0       goldberg\n",
      "1      john cena\n",
      "2        cm punk\n",
      "3    randy ortan\n",
      "Name: name, dtype: object\n"
     ]
    }
   ],
   "source": [
    "print(rec[\"name\"])"
   ]
  },
  {
   "cell_type": "code",
   "execution_count": 12,
   "metadata": {},
   "outputs": [
    {
     "name": "stdout",
     "output_type": "stream",
     "text": [
      "0    44\n",
      "1    55\n",
      "2    66\n",
      "3    77\n",
      "Name: marks, dtype: int64\n"
     ]
    }
   ],
   "source": [
    "print(rec[\"marks\"])"
   ]
  },
  {
   "cell_type": "code",
   "execution_count": 13,
   "metadata": {},
   "outputs": [
    {
     "name": "stdout",
     "output_type": "stream",
     "text": [
      "{'product': ['tv', 'mobile', 'laptop', 'football'], 'type': ['home applienc', 'electronic', 'electronic', 'sport'], 'price': [10000, 20000, 30000, 150]}\n"
     ]
    }
   ],
   "source": [
    "cart={'product':[\"tv\",\"mobile\",\"laptop\",\"football\"],\n",
    "      'type':[\"home applienc\",\"electronic\",\"electronic\",\"sport\"],\n",
    "      'price':[10000,20000,30000,150]}\n",
    "print(cart)"
   ]
  },
  {
   "cell_type": "code",
   "execution_count": 15,
   "metadata": {},
   "outputs": [
    {
     "name": "stdout",
     "output_type": "stream",
     "text": [
      "    product           type  price\n",
      "0        tv  home applienc  10000\n",
      "1    mobile     electronic  20000\n",
      "2    laptop     electronic  30000\n",
      "3  football          sport    150\n"
     ]
    }
   ],
   "source": [
    "df=pd.DataFrame(cart)\n",
    "print(df)"
   ]
  },
  {
   "cell_type": "code",
   "execution_count": 17,
   "metadata": {},
   "outputs": [
    {
     "name": "stdout",
     "output_type": "stream",
     "text": [
      "  product           type  price\n",
      "0      tv  home applienc  10000\n",
      "1  mobile     electronic  20000\n",
      "2  laptop     electronic  30000\n"
     ]
    }
   ],
   "source": [
    "data=df.loc[df['price']>1000]\n",
    "print(data)"
   ]
  },
  {
   "cell_type": "code",
   "execution_count": 18,
   "metadata": {},
   "outputs": [
    {
     "name": "stdout",
     "output_type": "stream",
     "text": [
      "    product   type  price\n",
      "3  football  sport    150\n"
     ]
    }
   ],
   "source": [
    "data=df.loc[df['price']<1000]\n",
    "print(data)"
   ]
  },
  {
   "cell_type": "code",
   "execution_count": 19,
   "metadata": {},
   "outputs": [
    {
     "name": "stdout",
     "output_type": "stream",
     "text": [
      "electronic\n"
     ]
    }
   ],
   "source": [
    "print(df.loc[2,\"type\"])"
   ]
  },
  {
   "cell_type": "code",
   "execution_count": null,
   "metadata": {},
   "outputs": [],
   "source": []
  }
 ],
 "metadata": {
  "kernelspec": {
   "display_name": "Python 3",
   "language": "python",
   "name": "python3"
  },
  "language_info": {
   "codemirror_mode": {
    "name": "ipython",
    "version": 3
   },
   "file_extension": ".py",
   "mimetype": "text/x-python",
   "name": "python",
   "nbconvert_exporter": "python",
   "pygments_lexer": "ipython3",
   "version": "3.8.5"
  }
 },
 "nbformat": 4,
 "nbformat_minor": 4
}
