{
 "cells": [
  {
   "cell_type": "markdown",
   "metadata": {},
   "source": [
    "This program accepts a nuumerical value from client side program,square it and gives response bac to client side program"
   ]
  },
  {
   "cell_type": "code",
   "execution_count": null,
   "metadata": {
    "scrolled": true
   },
   "outputs": [
    {
     "name": "stdout",
     "output_type": "stream",
     "text": [
      "--------------------------------------------------\n",
      "\n",
      "server side program ready to accept any client request:\n",
      "--------------------------------------------------\n"
     ]
    }
   ],
   "source": [
    "#SererSquare.py\n",
    "import socket\n",
    "s=socket.socket()\n",
    "s.bind((\"localhost\",1004))\n",
    "s.listen(2)   #number of client\n",
    "print(\"-\"*50)\n",
    "print(\"\\nserver side program ready to accept any client request:\")\n",
    "print(\"-\"*50)\n",
    "while(True):\n",
    "    conn,addr=s.accept()\n",
    "    print(\"------------------------------------------\")\n",
    "    print(\"type of conn{} and valuue={}\",type(conn),conn)\n",
    "    print(\"type of addr={} and value={}\".format(type(type),addr))\n",
    "    cdata=conn.recv(1024).decode() #reading the client data at server side\n",
    "    val=float(cdata)\n",
    "    printint(\"val of client at server side program={}\".format(val))\n",
    "    res=val**2  #process the client data\n",
    "    conn.socketend(str(res).encode())"
   ]
  },
  {
   "cell_type": "code",
   "execution_count": null,
   "metadata": {},
   "outputs": [],
   "source": [
    "#This program send a numerical value to server side program and obtains its squares\n",
    "#ClientSquare\n",
    "import socket\n",
    "socket=socket.socket()\n",
    "socket.connect((\"localhost\",1004))  #tple format\n",
    "print(\"client side program got connection from server side program\")\n",
    "clientdata=(input(\"\\nEnter a number:\")\n",
    "s.send(clientdata.encode())\n",
    "print(\"-------------------------------------------\")\n",
    "serverdata=s.recv(1004).decode()\n",
    "print(\"data from server side program={}\".format(serverdata))\n",
    "print(\"-------------------------------------------\")            "
   ]
  },
  {
   "cell_type": "code",
   "execution_count": null,
   "metadata": {},
   "outputs": [],
   "source": []
  }
 ],
 "metadata": {
  "kernelspec": {
   "display_name": "Python 3",
   "language": "python",
   "name": "python3"
  },
  "language_info": {
   "codemirror_mode": {
    "name": "ipython",
    "version": 3
   },
   "file_extension": ".py",
   "mimetype": "text/x-python",
   "name": "python",
   "nbconvert_exporter": "python",
   "pygments_lexer": "ipython3",
   "version": "3.8.5"
  }
 },
 "nbformat": 4,
 "nbformat_minor": 4
}
