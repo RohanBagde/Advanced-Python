{
 "cells": [
  {
   "cell_type": "markdown",
   "metadata": {},
   "source": [
    "# purpose"
   ]
  },
  {
   "cell_type": "markdown",
   "metadata": {},
   "source": [
    "# The purpose of Network Programming in Python is that \"To share the data across the multiple machines,which are located across the universe\"."
   ]
  },
  {
   "cell_type": "code",
   "execution_count": null,
   "metadata": {},
   "outputs": [],
   "source": []
  },
  {
   "cell_type": "markdown",
   "metadata": {},
   "source": [
    "# Def of Network:\n",
    "-------------------------\n",
    "=>A network is a collection of Interconnected computers / machines, whose purpose is\" To share the data across the multiple machines,which are located across the universe\"."
   ]
  },
  {
   "cell_type": "code",
   "execution_count": null,
   "metadata": {},
   "outputs": [],
   "source": []
  },
  {
   "cell_type": "markdown",
   "metadata": {},
   "source": [
    "# In Network Programming, we need to develop two types of Programs."
   ]
  },
  {
   "cell_type": "markdown",
   "metadata": {},
   "source": [
    "a) Client Side Program\n",
    "\n",
    "b) Server Side Program"
   ]
  },
  {
   "cell_type": "code",
   "execution_count": null,
   "metadata": {},
   "outputs": [],
   "source": []
  },
  {
   "cell_type": "markdown",
   "metadata": {},
   "source": [
    "# Termonology in Network Programming"
   ]
  },
  {
   "cell_type": "code",
   "execution_count": null,
   "metadata": {},
   "outputs": [],
   "source": []
  },
  {
   "cell_type": "markdown",
   "metadata": {},
   "source": [
    "\n",
    "--------------------------------------------------------\n",
    "1) DNS(Domain Naming Service)\n",
    "-----------------------------------------------\n",
    "=>A DNS is nothing but name of the machine, where the software / Program resides.\n",
    "=>The default DNS of every computer is \"localhost\"\n",
    "------------------------------------------------------\n",
    "2) IP address(Internet Protocol Address):\n",
    "--------------------------------------------------------\n",
    "=>An IP address is one of the Four parts numerical Integer value, where the server side program resides.\n",
    "=>The default IP address of every computer is 127.0.0.1\n",
    "--------------------------------------------------------\n",
    "3) Port Number:\n",
    "--------------------------------------\n",
    "=>A port number is one of the logical numerical id where the server side is running.\n",
    "=>To deal with network programming, we need a pre-defined module called \"socket\""
   ]
  },
  {
   "cell_type": "markdown",
   "metadata": {},
   "source": [
    "# "
   ]
  },
  {
   "cell_type": "markdown",
   "metadata": {},
   "source": [
    "# Steps for Developing and Client and Server Programs"
   ]
  },
  {
   "cell_type": "markdown",
   "metadata": {},
   "source": [
    "1) Steps for Developing  Client Side Program\n",
    "------------------------------------------------------------------\n",
    "i) import socket module\n",
    "ii) Client Side Program must get Connection from Server Side Program by passsing \n",
    "    DNS /IP Address and port number\n",
    "iii) Client Side Program must make a request / send client data to server side program by \n",
    "     encoding.\n",
    "iv) Client Side Program must receive result / response from Server Side Program with \n",
    "     decoded data.\n",
    "=>Hence to send multiple requests and receive response to/ from server side program, Client side Program must perform steps (iii) and (iv)."
   ]
  },
  {
   "cell_type": "code",
   "execution_count": null,
   "metadata": {},
   "outputs": [],
   "source": []
  },
  {
   "cell_type": "markdown",
   "metadata": {},
   "source": [
    "# 2)  Steps for Developing Server Side Program"
   ]
  },
  {
   "cell_type": "markdown",
   "metadata": {},
   "source": [
    "i) import socket module\n",
    "ii) Every Server Side Program must resides / bind in one machine by qualifying with DNS \n",
    "   /IP adrress and port number.\n",
    "iii) Confiure the server side program in such way that to many client the server side provodes response.\n",
    "iv) Server Side Program must ACCEPT the client side program request.\n",
    "v)  Server Side Program must read client side program request, Process and gives response back to client side program with encoding.\n",
    "=>Hnece Server Side Program performs steps (iv) and (v) as long as client side programs makes the request(s)."
   ]
  },
  {
   "cell_type": "code",
   "execution_count": null,
   "metadata": {},
   "outputs": [],
   "source": []
  },
  {
   "cell_type": "markdown",
   "metadata": {},
   "source": [
    "# Module required for Network Programming"
   ]
  },
  {
   "cell_type": "code",
   "execution_count": null,
   "metadata": {},
   "outputs": [],
   "source": []
  },
  {
   "cell_type": "markdown",
   "metadata": {},
   "source": [
    "# Server Side Functions"
   ]
  },
  {
   "cell_type": "markdown",
   "metadata": {},
   "source": [
    "a) socket()   \n",
    "\n",
    "b) bind()\n",
    "\n",
    "c) listen()\n",
    "\n",
    "d) accept()\n",
    "\n",
    "e) recv()\n",
    "\n",
    "f) send()"
   ]
  },
  {
   "cell_type": "code",
   "execution_count": null,
   "metadata": {},
   "outputs": [],
   "source": []
  },
  {
   "cell_type": "markdown",
   "metadata": {},
   "source": [
    "# Client Side Functions"
   ]
  },
  {
   "cell_type": "markdown",
   "metadata": {},
   "source": [
    "\n",
    "g) connect()\n",
    "\n",
    "socket()\n",
    "\n",
    "\n",
    "recv() \n",
    "\n",
    "send()\n"
   ]
  },
  {
   "cell_type": "code",
   "execution_count": null,
   "metadata": {},
   "outputs": [],
   "source": []
  }
 ],
 "metadata": {
  "kernelspec": {
   "display_name": "Python 3",
   "language": "python",
   "name": "python3"
  },
  "language_info": {
   "codemirror_mode": {
    "name": "ipython",
    "version": 3
   },
   "file_extension": ".py",
   "mimetype": "text/x-python",
   "name": "python",
   "nbconvert_exporter": "python",
   "pygments_lexer": "ipython3",
   "version": "3.8.5"
  }
 },
 "nbformat": 4,
 "nbformat_minor": 4
}
