{
 "cells": [
  {
   "cell_type": "code",
   "execution_count": 2,
   "metadata": {},
   "outputs": [
    {
     "name": "stdout",
     "output_type": "stream",
     "text": [
      "importing Jupyter notebook from dataencap1.ipynb\n",
      "account holder information\n",
      "---------------------------\n",
      "account holder name=kp\n",
      "account balance=10000\n",
      "account holder branch name=SBI\n",
      "---------------------------\n"
     ]
    }
   ],
   "source": [
    "#third\n",
    "import import_ipynb\n",
    "from dataencap1 import account\n",
    "ao=account()\n",
    "print(\"account holder information\")\n",
    "print(\"---------------------------\")  #calling by object name\n",
    "#print(\"account number={}\".format(ao.acno)) #cant access bcoz its encapsuluted\n",
    "print(\"account holder name={}\".format(ao.ename))\n",
    "print(\"account balance={}\".format(ao.bal))\n",
    "#print(\"account holder pin={}\".format(ao.pin)) cant access\n",
    "print(\"account holder branch name={}\".format(ao.bname))\n",
    "print(\"---------------------------\")"
   ]
  },
  {
   "cell_type": "code",
   "execution_count": null,
   "metadata": {},
   "outputs": [],
   "source": []
  }
 ],
 "metadata": {
  "kernelspec": {
   "display_name": "Python 3",
   "language": "python",
   "name": "python3"
  },
  "language_info": {
   "codemirror_mode": {
    "name": "ipython",
    "version": 3
   },
   "file_extension": ".py",
   "mimetype": "text/x-python",
   "name": "python",
   "nbconvert_exporter": "python",
   "pygments_lexer": "ipython3",
   "version": "3.8.5"
  }
 },
 "nbformat": 4,
 "nbformat_minor": 4
}
