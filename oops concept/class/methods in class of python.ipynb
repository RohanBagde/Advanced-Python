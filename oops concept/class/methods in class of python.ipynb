{
 "cells": [
  {
   "cell_type": "markdown",
   "metadata": {},
   "source": [
    "# Three types of methods"
   ]
  },
  {
   "cell_type": "markdown",
   "metadata": {},
   "source": [
    "1)Instance method"
   ]
  },
  {
   "cell_type": "markdown",
   "metadata": {},
   "source": [
    "2)Class level method"
   ]
  },
  {
   "cell_type": "markdown",
   "metadata": {},
   "source": [
    "3)Static level method\n"
   ]
  },
  {
   "cell_type": "markdown",
   "metadata": {},
   "source": [
    "# Instance method"
   ]
  },
  {
   "cell_type": "code",
   "execution_count": null,
   "metadata": {},
   "outputs": [
    {
     "name": "stdout",
     "output_type": "stream",
     "text": [
      "enter first student info: \n",
      "id=2140261478944\n",
      "enter student number: 10\n",
      "enter student name: 10\n",
      "enter student marks: 10\n",
      "----------------------------------------\n",
      "enter second student info: \n",
      "id=2140261479040\n"
     ]
    }
   ],
   "source": [
    "#syntax for class\n",
    "#def name of class(self,list of formal parameter if any)\n",
    "class studentex:               #class is programmer define datatype      #(without class level data member)\n",
    "    csr=\"PYTHON PROGRAM\"\n",
    "    def readstudentdet(self):\n",
    "        print(\"id={}\".format(id(self)))\n",
    "        self.stno=int(input(\"enter student number: \"))\n",
    "        self.stname=input(\"enter student name: \")\n",
    "        self.stmark=float(input(\"enter student marks: \"))\n",
    "        print(\"-\"*40)\n",
    "    def dispstuddet(self):\n",
    "        print(\"student number={}\".format(self.stno))\n",
    "        print(\"student name={}\".format(self.stname))\n",
    "        print(\"student marks={}\".format(self.stmark))\n",
    "        print(\"stdent course={}\".format(self.csr))  #here you can also print csr by object name which is studentex\n",
    "        print(\"-\"*40)\n",
    "                                                                \n",
    "\n",
    "\n",
    "#main program\n",
    "s1=studentex()                     \n",
    "s2=studentex()\n",
    "print(\"enter first student info: \")\n",
    "s1.readstudentdet()\n",
    "print(\"enter second student info: \")\n",
    "s2.readstudentdet()\n",
    "print(\"-\"*40)\n",
    "print(\"first student info: \")\n",
    "s1.dispstuddet()\n",
    "print(\"second student info: \")\n",
    "s2.dispstuddet()\n",
    "print(\"-\"*40)\n",
    "\n"
   ]
  },
  {
   "cell_type": "markdown",
   "metadata": {},
   "source": [
    "# Class level method"
   ]
  },
  {
   "cell_type": "code",
   "execution_count": 16,
   "metadata": {},
   "outputs": [
    {
     "name": "stdout",
     "output_type": "stream",
     "text": [
      "enter first student info: \n",
      "id=2513433228096\n",
      "----------------------------------------\n",
      "enter student number: 10\n",
      "enter student name: 20\n",
      "enter student marks: 14\n",
      "----------------------------------------\n",
      "enter second student info: \n",
      "id=2513433227424\n",
      "----------------------------------------\n",
      "enter student number: 21\n",
      "enter student name: 32\n",
      "enter student marks: 51\n",
      "----------------------------------------\n",
      "----------------------------------------\n",
      "first student info: \n",
      "student number=10\n",
      "student name=20\n",
      "student marks=14.0\n",
      "stdent course=python programming language\n",
      "----------------------------------------\n",
      "second student info: \n",
      "student number=21\n",
      "student name=32\n",
      "student marks=51.0\n",
      "stdent course=python programming language\n",
      "----------------------------------------\n",
      "----------------------------------------\n"
     ]
    }
   ],
   "source": [
    "#syntax for class level method\n",
    "#@classmethod\n",
    "#def methodname(cls,parameters if any)\n",
    "#class level must be accessed w.r.t class name (or) object name (or) self.\n",
    "\n",
    "\n",
    "class student:\n",
    "    @classmethod  #classmethod is an one type of decorator   class level method must start with decorator\n",
    "    def getcrsdet(cls):\n",
    "        cls.crs=\"python programming language\"  #class level data member\n",
    "    def readstudentdet(self): #class level method common operation on all object\n",
    "        print(\"id={}\".format(id(self)))\n",
    "        print(\"-\"*40)\n",
    "        self.stno=int(input(\"enter student number: \"))\n",
    "        self.stname=input(\"enter student name: \")\n",
    "        self.stmark=float(input(\"enter student marks: \"))\n",
    "        print(\"-\"*40)\n",
    "    def dispstuddet(self):\n",
    "        student.getcrsdet()    #call this fn which is common for stden1 and student2\n",
    "        print(\"student number={}\".format(self.stno))\n",
    "        print(\"student name={}\".format(self.stname))\n",
    "        print(\"student marks={}\".format(self.stmark))\n",
    "        print(\"stdent course={}\".format(student.crs))  #here you can also print csr by object name which is studentex\n",
    "        print(\"-\"*40)\n",
    "                                                                \n",
    "\n",
    "\n",
    "#main program\n",
    "student.getcrsdet()\n",
    "s1=student()                     \n",
    "s2=student()\n",
    "print(\"enter first student info: \")\n",
    "s1.readstudentdet()\n",
    "print(\"enter second student info: \")\n",
    "s2.readstudentdet()\n",
    "print(\"-\"*40)\n",
    "print(\"first student info: \")\n",
    "s1.dispstuddet()\n",
    "print(\"second student info: \")\n",
    "s2.dispstuddet()\n",
    "print(\"-\"*40)\n",
    "\n"
   ]
  },
  {
   "cell_type": "markdown",
   "metadata": {},
   "source": [
    "# 3) Static method"
   ]
  },
  {
   "cell_type": "markdown",
   "metadata": {},
   "source": [
    "#example for static method"
   ]
  },
  {
   "cell_type": "code",
   "execution_count": 4,
   "metadata": {},
   "outputs": [
    {
     "name": "stdout",
     "output_type": "stream",
     "text": [
      "content of ao before readings= {}\n",
      "enter first value: 10\n",
      "enter second value: 20\n",
      "enter any arithmatic operator: +\n",
      "content of ao after readings= {'a': 10, 'b': 20, 'op': '+'}\n",
      "<class '__main__.Arithmatic'>\n",
      "sum(10,20)=30\n"
     ]
    }
   ],
   "source": [
    "#program for accepting two values and accept any arithmatic operator using oops function\n",
    "#for universal purpose\n",
    "#static method never take parameter like \"cls\",\"self\" but it takes objects of \n",
    "class Arithmatic:\n",
    "    def readvals(self):\n",
    "        self.a=int(input(\"enter first value: \"))\n",
    "        self.b=int(input(\"enter second value: \"))\n",
    "        self.op=input(\"enter any arithmatic operator: \")\n",
    "class calculator:\n",
    "    @staticmethod\n",
    "    def calc(kv):\n",
    "        print(type(ao))\n",
    "        if (kv.op=='+'):\n",
    "            print(\"sum({},{})={}\".format(kv.a,kv.b,kv.a+kv.b))\n",
    "        elif (kv.op=='-'):\n",
    "            print(\"sum({},{})={}\".format(kv.a,kv.b,kv.a-kv.b))\n",
    "        elif (kv.op=='*'):\n",
    "            print(\"mul({},{})={}\".format(kv.a,kv.b,kv.a*kv.b))\n",
    "        elif (kv.op=='/'):\n",
    "            print(\"div({},{})={}\".format(kv.a,kv.b,kv.a/kv.b))\n",
    "        elif (kv.op=='%'):\n",
    "            print(\"mod({},{})={}\".format(kv.a,kv.b,kv.a%kv.b))\n",
    "        elif (kv.op=='**'):\n",
    "            print(\"expo({},{})={}\".format(kv.a,kv.b,kv.a**kv.b))    \n",
    "        else:\n",
    "            print(\"{} its not an ari operator\".format(kv.op))\n",
    "#main program\n",
    "ao=Arithmatic()\n",
    "print(\"content of ao before readings=\",ao.__dict__) #{}\n",
    "ao.readvals()\n",
    "print(\"content of ao after readings=\",ao.__dict__) #{a:10,b=20,op=+}\n",
    "calculator.calc(ao)"
   ]
  },
  {
   "cell_type": "code",
   "execution_count": 21,
   "metadata": {},
   "outputs": [
    {
     "ename": "SyntaxError",
     "evalue": "invalid syntax (<ipython-input-21-f57a9f06b5e1>, line 27)",
     "output_type": "error",
     "traceback": [
      "\u001b[1;36m  File \u001b[1;32m\"<ipython-input-21-f57a9f06b5e1>\"\u001b[1;36m, line \u001b[1;32m27\u001b[0m\n\u001b[1;33m    print(\"float({},{})={}\".format(self.a+self.b,result[5]))\u001b[0m\n\u001b[1;37m    ^\u001b[0m\n\u001b[1;31mSyntaxError\u001b[0m\u001b[1;31m:\u001b[0m invalid syntax\n"
     ]
    }
   ],
   "source": [
    "#my example for practice\n",
    "\n",
    "#first create an class\n",
    "class Aop:\n",
    "    def readvalues(self):    # third create an def fn including self\n",
    "        self.a=float(input(\"enter the value of A:\"))    #5th taing input aelf.obj=\"input\"\n",
    "        self.b=float(input(\"enter the value of B:\"))\n",
    "    def aop_operation(self):   #8th create one more def for performing additional operation\n",
    "        x1=self.a+self.b\n",
    "        x2=self.a-self.b\n",
    "        x3=self.a*self.b      #x1,x2,.... are called local variable\n",
    "        x4=self.a/self.b\n",
    "        x5=self.a%self.b\n",
    "        x6=self.a//self.b\n",
    "        x7=self.a**self.b\n",
    "        return x1,x2,x3,x4,x5,x6,x7\n",
    "    def dispvalues(self,result):   #9th now we have to print our values\n",
    "        print(type(result))\n",
    "        print(\"-\"*40)\n",
    "        print(\"Arithmatic Operator\")\n",
    "        print(\"-\"*40)\n",
    "        print(\"sum({},{})={}\".format(self.a+self.b,result[0]))\n",
    "        print(\"sub({},{})={}\".format(self.a+self.b,result[1]))\n",
    "        print(\"mul({},{})={}\".format(self.a+self.b,result[2]))\n",
    "        print(\"div({},{})={}\".format(self.a+self.b,result[3]))\n",
    "        print(\"mod({},{})={}\".format(self.a+self.b,result[4])\n",
    "        print(\"float({},{})={}\".format(self.a+self.b,result[5]))  \n",
    "        print(\"expo({},{})={}\".format(self.a+self.b,result[6]))\n",
    "\n",
    "\n",
    "\n",
    "#main program \n",
    "                  \n",
    "                  \n",
    "ao=Aop()     #second create an object ao=classname() , connect obj into class \n",
    "ao.readvalues()   #4th for reading values of an object\n",
    "print(ao.__dict__)  #6th create an empty dict \n",
    "ao.aop_operation() #7th create an fun for performing operation on A and B input\n",
    "dispvalues(res)"
   ]
  },
  {
   "cell_type": "code",
   "execution_count": null,
   "metadata": {},
   "outputs": [],
   "source": []
  },
  {
   "cell_type": "code",
   "execution_count": null,
   "metadata": {},
   "outputs": [],
   "source": []
  }
 ],
 "metadata": {
  "kernelspec": {
   "display_name": "Python 3 (ipykernel)",
   "language": "python",
   "name": "python3"
  },
  "language_info": {
   "codemirror_mode": {
    "name": "ipython",
    "version": 3
   },
   "file_extension": ".py",
   "mimetype": "text/x-python",
   "name": "python",
   "nbconvert_exporter": "python",
   "pygments_lexer": "ipython3",
   "version": "3.9.7"
  }
 },
 "nbformat": 4,
 "nbformat_minor": 4
}
