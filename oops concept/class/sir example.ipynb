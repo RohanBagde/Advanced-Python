{
 "cells": [
  {
   "cell_type": "code",
   "execution_count": 6,
   "metadata": {},
   "outputs": [
    {
     "name": "stdout",
     "output_type": "stream",
     "text": [
      "id of a in main program= 1960129997984\n",
      "Enter Value of a:10\n",
      "Enter Value of b:10\n",
      "----------------------------------------\n",
      "Arithmetic Operations\n",
      "----------------------------------------\n",
      "Sum(10.0,10.0)=20.0\n",
      "Sub(10.0,10.0)=0.0\n",
      "Mul(10.0,10.0)=100.0\n",
      "Div(10.0,10.0)=1.0\n",
      "Floor Div(10.0,10.0)=1.0\n",
      "Mod(10.0,10.0)=0.0\n",
      "Expo(10.0,10.0)=10000000000.0\n",
      "----------------------------------------\n"
     ]
    }
   ],
   "source": [
    "#aop.py\n",
    "class Aop:\n",
    "\tdef  readvalues(self):\n",
    "\t\tself.a=float(input(\"Enter Value of a:\"))\n",
    "\t\tself.b=float(input(\"Enter Value of b:\"))\n",
    "\tdef aop_operations(self):\n",
    "\t\tx1=self.a+self.b\n",
    "\t\tx2=self.a-self.b\n",
    "\t\tx3=self.a*self.b\n",
    "\t\tx4=self.a/self.b\n",
    "\t\tx5=self.a//self.b\n",
    "\t\tx6=self.a%self.b\n",
    "\t\tx7=self.a**self.b\n",
    "\t\treturn x1,x2,x3,x4,x5,x6,x7\n",
    "\tdef dispvalues(self, result):\n",
    "\t\tprint(\"-\"*40)\n",
    "\t\tprint(\"Arithmetic Operations\")\n",
    "\t\tprint(\"-\"*40)\n",
    "\t\tprint(\"Sum({},{})={}\".format(self.a,self.b,result[0]))\n",
    "\t\tprint(\"Sub({},{})={}\".format(self.a,self.b,result[1]))\n",
    "\t\tprint(\"Mul({},{})={}\".format(self.a,self.b,result[2]))\n",
    "\t\tprint(\"Div({},{})={}\".format(self.a,self.b,result[3]))\n",
    "\t\tprint(\"Floor Div({},{})={}\".format(self.a,self.b,result[4]))\n",
    "\t\tprint(\"Mod({},{})={}\".format(self.a,self.b,result[5]))\n",
    "\t\tprint(\"Expo({},{})={}\".format(self.a,self.b,result[6]))\n",
    "\t\tprint(\"-\"*40)\n",
    "#main program\n",
    "ao=Aop()\n",
    "print(\"id of a in main program=\",id(ao))\n",
    "ao.readvalues()\n",
    "res=ao.aop_operations()\n",
    "ao.dispvalues(res)"
   ]
  },
  {
   "cell_type": "code",
   "execution_count": null,
   "metadata": {},
   "outputs": [],
   "source": []
  }
 ],
 "metadata": {
  "kernelspec": {
   "display_name": "Python 3",
   "language": "python",
   "name": "python3"
  },
  "language_info": {
   "codemirror_mode": {
    "name": "ipython",
    "version": 3
   },
   "file_extension": ".py",
   "mimetype": "text/x-python",
   "name": "python",
   "nbconvert_exporter": "python",
   "pygments_lexer": "ipython3",
   "version": "3.8.5"
  }
 },
 "nbformat": 4,
 "nbformat_minor": 4
}
