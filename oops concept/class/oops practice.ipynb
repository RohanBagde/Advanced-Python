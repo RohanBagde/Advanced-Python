{
 "cells": [
  {
   "cell_type": "code",
   "execution_count": 7,
   "metadata": {},
   "outputs": [
    {
     "name": "stdout",
     "output_type": "stream",
     "text": [
      "enter first student info: \n",
      "id=1962956655728\n",
      "----------------------------------------\n",
      "enter student number: 212\n",
      "enter student name: 21\n",
      "enter student marks: 224\n",
      "----------------------------------------\n",
      "enter second student info: \n",
      "id=1962956653520\n",
      "----------------------------------------\n",
      "enter student number: 214\n",
      "enter student name: 231\n",
      "enter student marks: 224\n",
      "----------------------------------------\n",
      "----------------------------------------\n",
      "first student info: \n",
      "student number=212\n",
      "student name=21\n",
      "student marks=224.0\n",
      "stdent course=python programming language\n",
      "----------------------------------------\n",
      "second student info: \n",
      "student number=214\n",
      "student name=231\n",
      "student marks=224.0\n",
      "stdent course=python programming language\n",
      "----------------------------------------\n",
      "----------------------------------------\n"
     ]
    }
   ],
   "source": [
    "class student:\n",
    "    @classmethod  #classmethod is an one type of decorator\n",
    "    def getcrsdet(cls):\n",
    "        cls.crs=\"python programming language\"  #class level data member\n",
    "    def readstudentdet(self):\n",
    "        print(\"id={}\".format(id(self)))\n",
    "        print(\"-\"*40)\n",
    "        self.stno=int(input(\"enter student number: \"))\n",
    "        self.stname=input(\"enter student name: \")\n",
    "        self.stmark=float(input(\"enter student marks: \"))\n",
    "        print(\"-\"*40)\n",
    "    def dispstuddet(self):\n",
    "        student.getcrsdet()\n",
    "        print(\"student number={}\".format(self.stno))\n",
    "        print(\"student name={}\".format(self.stname))\n",
    "        print(\"student marks={}\".format(self.stmark))\n",
    "        print(\"stdent course={}\".format(self.crs))  #here you can also print csr by object name which is studentex\n",
    "        print(\"-\"*40)\n",
    "                                                                \n",
    "\n",
    "\n",
    "#main program\n",
    "student.getcrsdet()\n",
    "s1=student()                     \n",
    "s2=student()\n",
    "print(\"enter first student info: \")\n",
    "s1.readstudentdet()\n",
    "print(\"enter second student info: \")\n",
    "s2.readstudentdet()\n",
    "print(\"-\"*40)\n",
    "print(\"first student info: \")\n",
    "s1.dispstuddet()\n",
    "print(\"second student info: \")\n",
    "s2.dispstuddet()\n",
    "print(\"-\"*40)\n",
    "\n"
   ]
  },
  {
   "cell_type": "code",
   "execution_count": null,
   "metadata": {},
   "outputs": [],
   "source": []
  }
 ],
 "metadata": {
  "kernelspec": {
   "display_name": "Python 3",
   "language": "python",
   "name": "python3"
  },
  "language_info": {
   "codemirror_mode": {
    "name": "ipython",
    "version": 3
   },
   "file_extension": ".py",
   "mimetype": "text/x-python",
   "name": "python",
   "nbconvert_exporter": "python",
   "pygments_lexer": "ipython3",
   "version": "3.8.5"
  }
 },
 "nbformat": 4,
 "nbformat_minor": 4
}
