{
 "cells": [
  {
   "cell_type": "code",
   "execution_count": 5,
   "metadata": {},
   "outputs": [
    {
     "name": "stdout",
     "output_type": "stream",
     "text": [
      "------------------------------\n",
      "first student data\n",
      "------------------------------\n",
      "id of student1=1944497462816\n",
      "student number=20\n",
      "student name=rohan\n",
      "student marks=22.22\n",
      "student addr=nagpur\n",
      "first student course=PYTHON\n",
      "------------------------------\n",
      "second student data\n",
      "id of stuudent2=1944506591600\n",
      "------------------------------\n",
      "student number=30\n",
      "student name=goldberg\n",
      "student marks=33.22\n",
      "student addr=newyork\n",
      "second student course=PYTHON\n"
     ]
    }
   ],
   "source": [
    "#syntax for class\n",
    "#def name of class(self,list of formal parameter if any)\n",
    "class studentex: #class is programmer define datatype  #(\"delete pass\")\n",
    "    csr=\"PYTHON\"                                                          #(with class level data member)\n",
    "\n",
    "\n",
    "#main program\n",
    "s1=studentex()\n",
    "#place the data for s1\n",
    "s1.stno=20\n",
    "s1.name=\"rohan\"\n",
    "s1.marks=22.22\n",
    "s1.addr=\"nagpur\"\n",
    "#create another object\n",
    "s2=studentex()\n",
    "#place the data for s2\n",
    "s2.stno=30\n",
    "s2.name=\"goldberg\"\n",
    "s2.marks=33.22\n",
    "s2.addr=\"newyork\"\n",
    "print(\"-\"*30)\n",
    "print(\"first student data\")\n",
    "print(\"-\"*30)\n",
    "print(\"id of student1={}\".format(id(s1)))\n",
    "print(\"student number={}\".format(s1.stno))\n",
    "print(\"student name={}\".format(s1.name))\n",
    "print(\"student marks={}\".format(s1.marks))\n",
    "print(\"student addr={}\".format(s1.addr))\n",
    "print(\"first student course={}\".format(studentex.csr))\n",
    "print(\"-\"*30)\n",
    "print(\"second student data\")\n",
    "print(\"id of stuudent2={}\".format(id(s2)))\n",
    "print(\"-\"*30)\n",
    "print(\"student number={}\".format(s2.stno))\n",
    "print(\"student name={}\".format(s2.name))\n",
    "print(\"student marks={}\".format(s2.marks))\n",
    "print(\"student addr={}\".format(s2.addr))\n",
    "print(\"second student course={}\".format(studentex.csr))\n"
   ]
  },
  {
   "cell_type": "code",
   "execution_count": null,
   "metadata": {},
   "outputs": [],
   "source": []
  }
 ],
 "metadata": {
  "kernelspec": {
   "display_name": "Python 3",
   "language": "python",
   "name": "python3"
  },
  "language_info": {
   "codemirror_mode": {
    "name": "ipython",
    "version": 3
   },
   "file_extension": ".py",
   "mimetype": "text/x-python",
   "name": "python",
   "nbconvert_exporter": "python",
   "pygments_lexer": "ipython3",
   "version": "3.8.5"
  }
 },
 "nbformat": 4,
 "nbformat_minor": 4
}
