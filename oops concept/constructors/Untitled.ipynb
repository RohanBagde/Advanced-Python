{
 "cells": [
  {
   "cell_type": "code",
   "execution_count": null,
   "metadata": {},
   "outputs": [],
   "source": [
    "#ex1\n",
    "#default constructor\n",
    "class employee:\n",
    "    def __init__(self):    #constructor syntax   class name acting as function\n",
    "        self.eno=int(input(\"enter emp number :\"))\n",
    "        self.ename=(input(\"enter emp name :\"))\n",
    "        self.esal=float(input(\"enter emp salary :\"))\n",
    "    #it is an default constructor\n",
    "    \n",
    "#main program\n",
    "ao=employee()\n"
   ]
  },
  {
   "cell_type": "code",
   "execution_count": null,
   "metadata": {},
   "outputs": [],
   "source": []
  }
 ],
 "metadata": {
  "kernelspec": {
   "display_name": "Python 3",
   "language": "python",
   "name": "python3"
  }
 },
 "nbformat": 4,
 "nbformat_minor": 4
}
