{
 "cells": [
  {
   "cell_type": "markdown",
   "metadata": {},
   "source": [
    "# Constructor"
   ]
  },
  {
   "cell_type": "markdown",
   "metadata": {},
   "source": [
    "Types of constructor"
   ]
  },
  {
   "cell_type": "markdown",
   "metadata": {},
   "source": [
    "1)Default constructor/parameterless "
   ]
  },
  {
   "cell_type": "markdown",
   "metadata": {},
   "source": [
    "2)Parameterized constructor"
   ]
  },
  {
   "cell_type": "markdown",
   "metadata": {},
   "source": [
    "#constrctor are use for initialising the objects  \n",
    "#initialzing the objects is nothing but placing our own values without keeping object empty"
   ]
  },
  {
   "cell_type": "code",
   "execution_count": null,
   "metadata": {},
   "outputs": [],
   "source": [
    "#1)Default constructor/parameterless\n",
    "#syntax\n",
    "# def  __init__(self):"
   ]
  },
  {
   "cell_type": "code",
   "execution_count": null,
   "metadata": {},
   "outputs": [],
   "source": [
    "#1)Parameterized constructor\n",
    "#syntax\n",
    "#def __init__(self,list of paramter): saperated by comma"
   ]
  },
  {
   "cell_type": "code",
   "execution_count": null,
   "metadata": {},
   "outputs": [],
   "source": []
  },
  {
   "cell_type": "code",
   "execution_count": 9,
   "metadata": {},
   "outputs": [
    {
     "name": "stdout",
     "output_type": "stream",
     "text": [
      "enter emp number :10\n",
      "enter emp name :4555\n",
      "enter emp salary :455556\n",
      "content of ao={} {'eno': 10, 'ename': '4555', 'esal': 455556.0}\n",
      "enter emp number :1554\n",
      "enter emp name :42522\n",
      "enter emp salary :544545\n",
      "content of ao1={} {'eno': 10, 'ename': '4555', 'esal': 455556.0}\n"
     ]
    }
   ],
   "source": [
    "#ex1\n",
    "#default constructor\n",
    "class employee:\n",
    "    def __init__(self):    #constructor syntax   class name acting as function\n",
    "        self.eno=int(input(\"enter emp number :\"))\n",
    "        self.ename=(input(\"enter emp name :\"))\n",
    "        self.esal=float(input(\"enter emp salary :\"))\n",
    "    #it is an default constructor\n",
    "    \n",
    "#main program\n",
    "ao=employee()\n",
    "print(\"content of ao={}\",ao.__dict__) #empty\n",
    "ao1=employee()  #again i called the fun\n",
    "print(\"content of ao1={}\",ao.__dict__)"
   ]
  },
  {
   "cell_type": "code",
   "execution_count": 20,
   "metadata": {},
   "outputs": [
    {
     "name": "stdout",
     "output_type": "stream",
     "text": [
      "i am from default constrctor:\n",
      "value of a=10\n",
      "value of a=10\n",
      "i am from default constrctor:\n",
      "value of a=10\n",
      "value of a=10\n"
     ]
    }
   ],
   "source": [
    "#defaultex2\n",
    "class student:\n",
    "    def __init__(self):\n",
    "        print(\"i am from default constrctor:\")\n",
    "        self.a=10\n",
    "        self.b=20\n",
    "        print(\"value of a={}\".format(self.a))\n",
    "        print(\"value of a={}\".format(self.a))\n",
    "#main program\n",
    "t1=student()        #Here we use only default constructor\n",
    "t2=student()"
   ]
  },
  {
   "cell_type": "code",
   "execution_count": null,
   "metadata": {},
   "outputs": [],
   "source": []
  },
  {
   "cell_type": "code",
   "execution_count": 10,
   "metadata": {},
   "outputs": [
    {
     "name": "stdout",
     "output_type": "stream",
     "text": [
      "content of ao={} {'eno': 10, 'ename': 'kp', 'esal': 14.45}\n",
      "content of ao1={} {'eno': 10, 'ename': 'kp', 'esal': 14.45}\n"
     ]
    }
   ],
   "source": [
    "#ex2\n",
    "#parameterise constructor\n",
    "class employee:\n",
    "    def __init__(self,eno,ename,esal):    #constructor syntax   class name acting as function\n",
    "        self.eno=eno\n",
    "        self.ename=ename\n",
    "        self.esal=esal\n",
    "    \n",
    "    \n",
    "#main program\n",
    "ao=employee(10,\"kp\",14.45)\n",
    "print(\"content of ao={}\",ao.__dict__) \n",
    "ao1=employee(15,\"rr\",45.41)  #again i called the fun\n",
    "print(\"content of ao1={}\",ao.__dict__)"
   ]
  },
  {
   "cell_type": "code",
   "execution_count": 17,
   "metadata": {},
   "outputs": [
    {
     "name": "stdout",
     "output_type": "stream",
     "text": [
      "i am from parameterized const:\n",
      "value of a=10\n",
      "value of a=20\n",
      "i am from parameterized const:\n",
      "value of a=100\n",
      "value of a=200\n",
      "i am from parameterized const:\n",
      "value of a=kvr\n",
      "value of a=python\n"
     ]
    }
   ],
   "source": [
    "#ex3 parameterize\n",
    "class text:\n",
    "    def __init__(self,a,b):  #here a,b formal parameter\n",
    "        print(\"i am from parameterized const:\")\n",
    "        self.a=a\n",
    "        self.b=b  # Here self.a and self.b are called instance data member\n",
    "        print(\"value of a={}\".format(self.a))\n",
    "        print(\"value of a={}\".format(self.b))\n",
    "#main program\n",
    "t1=text(10,20)\n",
    "t2=text(100,200)\n",
    "t3=text(\"kvr\",\"python\")"
   ]
  },
  {
   "cell_type": "code",
   "execution_count": 23,
   "metadata": {},
   "outputs": [],
   "source": []
  },
  {
   "cell_type": "code",
   "execution_count": 19,
   "metadata": {},
   "outputs": [
    {
     "name": "stdout",
     "output_type": "stream",
     "text": [
      "i am from parameterized const:\n",
      "value of a=10\n",
      "value of a=20\n",
      "i am from parameterized const:\n",
      "value of a=100\n",
      "value of a=200\n",
      "i am from parameterized const:\n",
      "value of a=kvr\n",
      "value of a=python\n"
     ]
    }
   ],
   "source": [
    "#ex4 parameterize\n",
    "# Here we can write any parameter insted of seelf\n",
    "# But according to internatinal standard we use self\n",
    "class text:\n",
    "    def __init__(rohan,a,b):  #here a,b formal parameter\n",
    "        print(\"i am from parameterized const:\")\n",
    "        rohan.a=a\n",
    "        rohan.b=b  # Here self.a and self.b are called instance data member\n",
    "        print(\"value of a={}\".format(rohan.a))\n",
    "        print(\"value of a={}\".format(rohan.b))\n",
    "#main program\n",
    "t1=text(10,20)\n",
    "t2=text(100,200)        # Here we use only parameterize constructor\n",
    "t3=text(\"kvr\",\"python\")"
   ]
  },
  {
   "cell_type": "code",
   "execution_count": 31,
   "metadata": {},
   "outputs": [
    {
     "name": "stdout",
     "output_type": "stream",
     "text": [
      "di am from default constructor:\n",
      "value of a=1000\n",
      "value of b=2000\n"
     ]
    }
   ],
   "source": [
    "# Now we are going to use both default + parameterized constructor\n",
    "#defaultparaex1\n",
    "class studentex:\n",
    "    def __init__(self):\n",
    "        print(\"di am from default constructor:\")\n",
    "        self.a=1000\n",
    "        self.b=2000\n",
    "        print(\"value of a={}\".format(self.a))\n",
    "        print(\"value of b={}\".format(self.b))\n",
    "#main program\n",
    "x1=studentex()\n",
    "\n"
   ]
  },
  {
   "cell_type": "code",
   "execution_count": 32,
   "metadata": {},
   "outputs": [
    {
     "ename": "TypeError",
     "evalue": "__init__() missing 2 required positional arguments: 'a' and 'b'",
     "output_type": "error",
     "traceback": [
      "\u001b[1;31m---------------------------------------------------------------------------\u001b[0m",
      "\u001b[1;31mTypeError\u001b[0m                                 Traceback (most recent call last)",
      "\u001b[1;32m<ipython-input-32-88cf0d6d3210>\u001b[0m in \u001b[0;36m<module>\u001b[1;34m\u001b[0m\n\u001b[0;32m     14\u001b[0m \u001b[1;33m\u001b[0m\u001b[0m\n\u001b[0;32m     15\u001b[0m \u001b[1;31m#main program\u001b[0m\u001b[1;33m\u001b[0m\u001b[1;33m\u001b[0m\u001b[1;33m\u001b[0m\u001b[0m\n\u001b[1;32m---> 16\u001b[1;33m \u001b[0mx1\u001b[0m\u001b[1;33m=\u001b[0m\u001b[0mstudentex\u001b[0m\u001b[1;33m(\u001b[0m\u001b[1;33m)\u001b[0m\u001b[1;33m\u001b[0m\u001b[1;33m\u001b[0m\u001b[0m\n\u001b[0m\u001b[0;32m     17\u001b[0m \u001b[0mx2\u001b[0m\u001b[1;33m=\u001b[0m\u001b[0mstudentex\u001b[0m\u001b[1;33m(\u001b[0m\u001b[1;36m100\u001b[0m\u001b[1;33m,\u001b[0m\u001b[1;36m200\u001b[0m\u001b[1;33m)\u001b[0m\u001b[1;33m\u001b[0m\u001b[1;33m\u001b[0m\u001b[0m\n",
      "\u001b[1;31mTypeError\u001b[0m: __init__() missing 2 required positional arguments: 'a' and 'b'"
     ]
    }
   ],
   "source": [
    "# Now we are going to use both default + parameterized constructor\n",
    "#defaultparaex1\n",
    "class studentex:\n",
    "    def __init__(self):  #no para\n",
    "        print(\"i am from default constructor:\")\n",
    "        self.a=1000\n",
    "        self.b=2000\n",
    "        print(\"value of a={}\".format(self.a))\n",
    "        print(\"value of b={}\".format(self.b))\n",
    "    def __init__(self,a,b):  #we cant use same name constructor\n",
    "        print(\"i am from parameterized consrtctor:\")\n",
    "        self.a=a\n",
    "        self.b=b\n",
    "        \n",
    "#main program\n",
    "x1=studentex()\n",
    "x2=studentex(100,200)\n"
   ]
  },
  {
   "cell_type": "code",
   "execution_count": 34,
   "metadata": {},
   "outputs": [
    {
     "name": "stdout",
     "output_type": "stream",
     "text": [
      "i am from parameterized consrtctor:\n",
      "value of a=10\n",
      "value of b=20\n",
      "i am from parameterized consrtctor:\n",
      "value of a=100\n",
      "value of b=200\n",
      "content of x2={} {'a': 100, 'b': 200}\n"
     ]
    }
   ],
   "source": [
    "# Now we are going to use both default + parameterized constructor\n",
    "#defaultparaex2\n",
    "class studentex:\n",
    "     def __init__(self,a=10,b=20):  # Here we used default+parameterized constructor\n",
    "        print(\"i am from parameterized consrtctor:\")\n",
    "        self.a=a\n",
    "        self.b=b\n",
    "        print(\"value of a={}\".format(self.a))\n",
    "        print(\"value of b={}\".format(self.b))\n",
    "#main program\n",
    "x1=studentex()\n",
    "x2=studentex(100,200)    # Here is parameter\n",
    "print(\"content of x2={}\",x2.__dict__)# we can print lie this also"
   ]
  },
  {
   "cell_type": "code",
   "execution_count": null,
   "metadata": {},
   "outputs": [],
   "source": []
  }
 ],
 "metadata": {
  "kernelspec": {
   "display_name": "Python 3",
   "language": "python",
   "name": "python3"
  },
  "language_info": {
   "codemirror_mode": {
    "name": "ipython",
    "version": 3
   },
   "file_extension": ".py",
   "mimetype": "text/x-python",
   "name": "python",
   "nbconvert_exporter": "python",
   "pygments_lexer": "ipython3",
   "version": "3.8.5"
  }
 },
 "nbformat": 4,
 "nbformat_minor": 4
}
