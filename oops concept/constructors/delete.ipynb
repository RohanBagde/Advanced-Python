{
 "cells": [
  {
   "cell_type": "code",
   "execution_count": 6,
   "metadata": {},
   "outputs": [
    {
     "name": "stdout",
     "output_type": "stream",
     "text": [
      "i am from default constructor:\n",
      "value of a=1000\n",
      "value of b=2000\n",
      "i am from default constructor:\n",
      "value of a=1000\n",
      "value of b=2000\n"
     ]
    }
   ],
   "source": [
    "# Now we are going to use both default + parameterized constructor\n",
    "#defaultparaex1\n",
    "class studentex:\n",
    "    def __init__(self):\n",
    "        print(\"i am from default constructor:\")\n",
    "        self.a=1000\n",
    "        self.b=2000\n",
    "        print(\"value of a={}\".format(self.a))\n",
    "        print(\"value of b={}\".format(self.b))\n",
    "#main program\n",
    "x1=studentex()\n",
    "x2=studentex()\n"
   ]
  },
  {
   "cell_type": "code",
   "execution_count": 3,
   "metadata": {},
   "outputs": [
    {
     "name": "stdout",
     "output_type": "stream",
     "text": [
      "i am from default constrctor:\n",
      "value of a=10\n",
      "value of a=10\n",
      "i am from default constrctor:\n",
      "value of a=10\n",
      "value of a=10\n"
     ]
    }
   ],
   "source": [
    "#defaultex2\n",
    "class student:\n",
    "    def __init__(self):\n",
    "        print(\"i am from default constrctor:\")\n",
    "        self.a=10\n",
    "        self.b=20\n",
    "        print(\"value of a={}\".format(self.a))\n",
    "        print(\"value of a={}\".format(self.a))\n",
    "#main program\n",
    "t1=student()        #Here we use only default constructor\n",
    "t2=student()"
   ]
  },
  {
   "cell_type": "code",
   "execution_count": null,
   "metadata": {},
   "outputs": [],
   "source": []
  },
  {
   "cell_type": "code",
   "execution_count": null,
   "metadata": {},
   "outputs": [],
   "source": []
  }
 ],
 "metadata": {
  "kernelspec": {
   "display_name": "Python 3",
   "language": "python",
   "name": "python3"
  },
  "language_info": {
   "codemirror_mode": {
    "name": "ipython",
    "version": 3
   },
   "file_extension": ".py",
   "mimetype": "text/x-python",
   "name": "python",
   "nbconvert_exporter": "python",
   "pygments_lexer": "ipython3",
   "version": "3.8.5"
  }
 },
 "nbformat": 4,
 "nbformat_minor": 4
}
