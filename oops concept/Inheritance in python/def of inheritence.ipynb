{
 "cells": [
  {
   "cell_type": "markdown",
   "metadata": {},
   "source": [
    "# Types of Inheritance"
   ]
  },
  {
   "cell_type": "markdown",
   "metadata": {},
   "source": [
    " 1)Single Inheritance\n",
    "\n",
    " 2)Multilevel Inheritance\n",
    "\n",
    " 3)Hierarchical Inheritance\n",
    " \n",
    " 4)Multiple Inheritance\n",
    " \n",
    " 5)Hybrid Inhertance"
   ]
  },
  {
   "cell_type": "code",
   "execution_count": 6,
   "metadata": {},
   "outputs": [
    {
     "name": "stdout",
     "output_type": "stream",
     "text": [
      "teacher advices all student reads and practice python program \n",
      "python practice\n"
     ]
    }
   ],
   "source": [
    "#1) SINGLE INHERITANCE\n",
    "#INHPROG1\n",
    "\n",
    "class teacher:\n",
    "    def advice(self):\n",
    "        print(\"teacher advices all student reads and practice python program \")\n",
    "class pythonstudent(teacher): #must use class name as parameter\n",
    "    def readpython(self):\n",
    "        print(\"python practice\")\n",
    "#main program\n",
    "po=pythonstudent()\n",
    "po.advice()\n",
    "po.readpython()"
   ]
  },
  {
   "cell_type": "code",
   "execution_count": 16,
   "metadata": {},
   "outputs": [
    {
     "name": "stdout",
     "output_type": "stream",
     "text": [
      "Teacher teaches the subjects to get the jobs\n",
      "company provides the job\n"
     ]
    }
   ],
   "source": [
    "#INHPROG2\n",
    "\n",
    "class teacher:\n",
    "    def subject(self):\n",
    "        print(\"Teacher teaches the subjects to get the jobs\")\n",
    "class company:\n",
    "    def job(self):\n",
    "        print(\"company provides the job\")\n",
    "class student(teacher,company):pass   #pass means nothing writen inside the student\n",
    "#main program\n",
    "so=teacher()  #here you call function by classname \n",
    "so1=company()\n",
    "so.subject()\n",
    "so1.job()\n",
    "    "
   ]
  },
  {
   "cell_type": "code",
   "execution_count": 23,
   "metadata": {},
   "outputs": [
    {
     "name": "stdout",
     "output_type": "stream",
     "text": [
      "enter company  name :ibm\n",
      "enter company location :hyd\n",
      "company name=ibm\n",
      "company location=hyd\n",
      "enter employee number :10\n",
      "enter employee name :kppp\n",
      "enter employee salary :100000\n",
      "emp no:10\n",
      "emp name:kppp\n",
      "emp salary:100000.0\n"
     ]
    }
   ],
   "source": [
    "#write a python program in which there exist company which contains company name and location.accept and display company details \n",
    "#let us assume their existant eployess which contain empno,empname,empsal.accept and display emp details along with company details\n",
    "#INHPROG3\n",
    "\n",
    "class company:\n",
    "    def getcompdet(self):\n",
    "        self.cname=input(\"enter company  name :\")\n",
    "        self.loc=input(\"enter company location :\")\n",
    "    def dispcomdet(self):\n",
    "        print(\"company name={}\".format(self.cname))\n",
    "        print(\"company location={}\".format(self.loc))\n",
    "class employee:  #here you call class name this is called single inheritance we didnt call \n",
    "    def getempdet(self):\n",
    "        self.eno=int(input(\"enter employee number :\"))\n",
    "        self.ename=(input(\"enter employee name :\"))\n",
    "        self.sal=float(input(\"enter employee salary :\"))\n",
    "    def dispempdet(self):\n",
    "        print(\"emp no:{}\".format(self.eno))\n",
    "        print(\"emp name:{}\".format(self.ename))\n",
    "        print(\"emp salary:{}\".format(self.sal))\n",
    "#main program\n",
    "kp=company()\n",
    "kp.getcompdet()\n",
    "kp.dispcomdet()\n",
    "kp1=employee()\n",
    "kp1.getempdet()\n",
    "kp1.dispempdet()\n",
    "        "
   ]
  },
  {
   "cell_type": "code",
   "execution_count": 26,
   "metadata": {},
   "outputs": [
    {
     "name": "stdout",
     "output_type": "stream",
     "text": [
      "reading the value\n",
      "enter company  name :10\n",
      "enter company location :10\n",
      "enter employee number :10\n",
      "enter employee name :10\n",
      "enter employee salary :10\n",
      "----------------------------------------\n",
      "displaying the values\n",
      "company name=10\n",
      "company location=10\n",
      "emp no:10\n",
      "emp name:10\n",
      "emp salary:10.0\n"
     ]
    }
   ],
   "source": [
    "#write a python program in which there exist company which contains company name and location.accept and display company details \n",
    "#let us assume their existant eployess which contain empno,empname,empsal.accept and display emp details along with company details\n",
    "#INHPROG3\n",
    "\n",
    "class company:\n",
    "    def getcompdet(self):\n",
    "        self.cname=input(\"enter company  name :\")\n",
    "        self.loc=input(\"enter company location :\")\n",
    "    def dispcomdet(self):\n",
    "        print(\"company name={}\".format(self.cname))\n",
    "        print(\"company location={}\".format(self.loc))\n",
    "class employee(company):  #here we call main classname called single heritence\n",
    "    def getempdet(self):\n",
    "        self.eno=int(input(\"enter employee number :\"))\n",
    "        self.ename=(input(\"enter employee name :\"))\n",
    "        self.sal=float(input(\"enter employee salary :\"))\n",
    "    def dispempdet(self):\n",
    "        print(\"emp no:{}\".format(self.eno))\n",
    "        print(\"emp name:{}\".format(self.ename))\n",
    "        print(\"emp salary:{}\".format(self.sal))\n",
    "#main program\n",
    "kp=employee()\n",
    "print(\"reading the value\")\n",
    "kp.getcompdet()               #now employee is the main class bcos we assign heritence then we have to call\n",
    "kp.getempdet()    # we have tp call only second class employee\n",
    "print(\"-\"*40)\n",
    "print(\"displaying the values\")\n",
    "kp.dispcomdet()\n",
    "kp.dispempdet()"
   ]
  },
  {
   "cell_type": "code",
   "execution_count": null,
   "metadata": {},
   "outputs": [],
   "source": []
  }
 ],
 "metadata": {
  "kernelspec": {
   "display_name": "Python 3",
   "language": "python",
   "name": "python3"
  },
  "language_info": {
   "codemirror_mode": {
    "name": "ipython",
    "version": 3
   },
   "file_extension": ".py",
   "mimetype": "text/x-python",
   "name": "python",
   "nbconvert_exporter": "python",
   "pygments_lexer": "ipython3",
   "version": "3.8.5"
  }
 },
 "nbformat": 4,
 "nbformat_minor": 4
}
