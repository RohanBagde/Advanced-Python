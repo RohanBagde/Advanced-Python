{
 "cells": [
  {
   "cell_type": "markdown",
   "metadata": {},
   "source": [
    "# Polymorphism"
   ]
  },
  {
   "cell_type": "markdown",
   "metadata": {},
   "source": [
    "one form in multiple form is call polymorphism\n",
    "\n",
    "prpose of polymorphism is that \"to utilize minimized memory space\"\n",
    "\n",
    "polymorphism=diff class name same function name\n",
    "\n",
    "Inheritance=diff class name diff function name"
   ]
  },
  {
   "cell_type": "code",
   "execution_count": 2,
   "metadata": {},
   "outputs": [
    {
     "name": "stdout",
     "output_type": "stream",
     "text": [
      "drawing rectangle\n",
      "drawing circle\n",
      "-------------------\n",
      "drawing square\n"
     ]
    }
   ],
   "source": [
    "#polymorphismgex1\n",
    "#here we used overriding\n",
    "#method heading is same but method body is different\n",
    "#using super keyword we can print super class\n",
    "class circle:\n",
    "    def draw(self): #orignal method\n",
    "        print(\"drawing circle\")\n",
    "class rect(circle): \n",
    "    def draw(self): #overriding method\n",
    "        print(\"drawing rectangle\")\n",
    "        super().draw()  #super() fun call the main class\n",
    "class square:\n",
    "    def draw(self):\n",
    "        print(\"drawing square\")\n",
    "#main program\n",
    "ro=rect() #here we have to call only second classname and call fun in main class\n",
    "ro.draw()\n",
    "print(\"-------------------\")\n",
    "so=square()\n",
    "so.draw()    #in output can print circle statement using super fun"
   ]
  },
  {
   "cell_type": "code",
   "execution_count": 1,
   "metadata": {},
   "outputs": [
    {
     "name": "stdout",
     "output_type": "stream",
     "text": [
      "rect constructor\n",
      "circle constructor\n"
     ]
    }
   ],
   "source": [
    "#polyex2\n",
    "#method overriding ex1    hidden  principle is polymorphism\n",
    "#we didnt overriding here\n",
    "#__init__ is constructor\n",
    "class circle:\n",
    "    def __init__(self): #orignal constructor\n",
    "        print(\"circle constructor\")\n",
    "class rect(circle):\n",
    "    def __init__(self):  #overridden constructor\n",
    "        print(\"rect constructor\")\n",
    "        super().__init__() #calling base class or main class\n",
    "#main program\n",
    "ro=rect()"
   ]
  },
  {
   "cell_type": "markdown",
   "metadata": {},
   "source": [
    "# Aproches to call main class or base class"
   ]
  },
  {
   "cell_type": "markdown",
   "metadata": {},
   "source": [
    "1)sper()   syntax:- super().methodname(values if any)\n",
    "here we cant call directly to top most class\n",
    "\n",
    "2)by using class name  \n",
    "syntax1:- classname.methodname(self,values if any) \n",
    "syntax2:- classname.__init__(self,vales if any)"
   ]
  },
  {
   "cell_type": "code",
   "execution_count": 3,
   "metadata": {
    "scrolled": true
   },
   "outputs": [
    {
     "name": "stdout",
     "output_type": "stream",
     "text": [
      "Student-->Pratcing Python,Java and Music\n",
      "Teacher2 Teaches Java:\n",
      "Teacher1 Teaches Python\n",
      "Teacher3 Teaches Music:\n"
     ]
    }
   ],
   "source": [
    "#PolyEx2\n",
    "#by sing classname     \n",
    "class Teacher1:\n",
    "\tdef  subject(self):\n",
    "\t\tprint(\"Teacher1 Teaches Python\")\n",
    "class Teacher2:\n",
    "\tdef  subject(self):\n",
    "\t\tprint(\"Teacher2 Teaches Java:\")\n",
    "class Teacher3:\n",
    "\tdef  subject(self):\n",
    "\t\tprint(\"Teacher3 Teaches Music:\")\n",
    "\n",
    "class Student(Teacher1,Teacher3,Teacher2):\n",
    "\tdef subject(self):  # overridden Method\n",
    "\t\tprint(\"Student-->Pratcing Python,Java and Music\")\n",
    "\t\tTeacher2.subject(self)  #classname.def fun.(self)  \n",
    "\t\tTeacher1.subject(self)\n",
    "\t\tTeacher3.subject(self)\n",
    "\n",
    "#main program\n",
    "so=Student()\n",
    "so.subject()\n",
    "\t"
   ]
  },
  {
   "cell_type": "code",
   "execution_count": 17,
   "metadata": {},
   "outputs": [
    {
     "name": "stdout",
     "output_type": "stream",
     "text": [
      "Drawing Square:\n",
      "Drawing Circle:\n"
     ]
    }
   ],
   "source": [
    "#polyex3.py\n",
    "#classname calling\n",
    "#multilevel inheritence\n",
    "class Circle:\n",
    "\tdef  draw(self):  # original method\n",
    "\t\tprint(\"Drawing Circle:\")\n",
    "\n",
    "class Rect(Circle):\n",
    "\tdef  draw(self):  # Overridden method\n",
    "\t\tprint(\"Drawing Rectangle:\")\n",
    "class Square(Rect):\n",
    "\tdef draw(self):  # Overridden method\n",
    "\t\tprint(\"Drawing Square:\")\n",
    "\t\tCircle.draw(self)\n",
    "\t\tRect.draw(self)\n",
    "\n",
    "\n",
    "#main program\n",
    "so=Square()\n",
    "so.draw()"
   ]
  },
  {
   "cell_type": "code",
   "execution_count": 20,
   "metadata": {
    "scrolled": true
   },
   "outputs": [
    {
     "name": "stdout",
     "output_type": "stream",
     "text": [
      "Enter Length Value:10\n",
      "Enter Breadth Value:14\n",
      "----------------------------------------\n",
      "Area of Rect=140.0\n",
      "----------------------------------------\n",
      "Enter Side Value:40\n",
      "----------------------------------------\n",
      "Area of Square=1600.0\n",
      "----------------------------------------\n",
      "Enter Radious:40\n",
      "----------------------------------------\n",
      "Area of Circle=5024.0\n",
      "----------------------------------------\n"
     ]
    }
   ],
   "source": [
    "#polyex4.py\n",
    "#same heading diff body\n",
    "#by using super()\n",
    "class Circle:\n",
    "\tdef  area(self,r): # original method\n",
    "\t\tprint(\"-\"*40)\n",
    "\t\tac=3.14*r**2\n",
    "\t\tprint(\"Area of Circle={}\".format(ac))\n",
    "\t\tprint(\"-\"*40)\n",
    "class Square(Circle):\n",
    "\tdef  area(self,s): # overridden method\n",
    "\t\tprint(\"-\"*40)\n",
    "\t\tsa=s**2\n",
    "\t\tprint(\"Area of Square={}\".format(sa))\n",
    "\t\tprint(\"-\"*40)\n",
    "\t\tsuper().area(float(input(\"Enter Radious:\")))\n",
    "\t\t\n",
    "class Rect(Square):\n",
    "\tdef  area(self,l,b):\n",
    "\t\tprint(\"-\"*40)\n",
    "\t\tra=l*b\n",
    "\t\tprint(\"Area of Rect={}\".format(ra))\n",
    "\t\tprint(\"-\"*40)\n",
    "\t\tsuper().area(float(input(\"Enter Side Value:\")))\n",
    "\n",
    "#main program\n",
    "ro=Rect()\n",
    "ro.area(float(input(\"Enter Length Value:\")), float(input(\"Enter Breadth Value:\")))"
   ]
  },
  {
   "cell_type": "code",
   "execution_count": null,
   "metadata": {},
   "outputs": [],
   "source": [
    "#polyex5.py\n",
    "#same heading diff body\n",
    "#by using classname\n",
    "class Circle:\n",
    "\tdef  area(self,r): # original method\n",
    "\t\tprint(\"-\"*40)\n",
    "\t\tac=3.14*r**2\n",
    "\t\tprint(\"Area of Circle={}\".format(ac))\n",
    "\t\tprint(\"-\"*40)\n",
    "class Square(Circle):\n",
    "\tdef  area(self,s): # overridden method\n",
    "\t\tprint(\"-\"*40)\n",
    "\t\tsa=s**2\n",
    "\t\tprint(\"Area of Square={}\".format(sa))\n",
    "\t\tprint(\"-\"*40)\n",
    "class Rect(Square):\n",
    "\tdef  area(self,l,b):\n",
    "\t\tprint(\"-\"*40)\n",
    "\t\tra=l*b\n",
    "\t\tprint(\"Area of Rect={}\".format(ra))\n",
    "\t\tprint(\"-\"*40)\n",
    "\t\tCircle.area(self,float(input(\"Enter Radious:\"))) #calling by classname directly to sperclass \n",
    "\t\tSquare.area(self,float(input(\"Enter Side:\")))       \n",
    "#main program\n",
    "ro=Rect()\n",
    "ro.area(float(input(\"Enter Length Value:\")), float(input(\"Enter Breadth Value:\")))"
   ]
  },
  {
   "cell_type": "code",
   "execution_count": null,
   "metadata": {},
   "outputs": [],
   "source": [
    "#polyex6.py\n",
    "class Circle:\n",
    "\tdef  __init__(self,r): # original constructor\n",
    "\t\tprint(\"-\"*40)\n",
    "\t\tac=3.14*r**2\n",
    "\t\tprint(\"Area of Circle={}\".format(ac))\n",
    "\t\tprint(\"-\"*40)\n",
    "class Square(Circle):\n",
    "\tdef  __init__(self,s): # overridden constructor\n",
    "\t\tprint(\"-\"*40)\n",
    "\t\tsa=s**2\n",
    "\t\tprint(\"Area of Square={}\".format(sa))\n",
    "\t\tprint(\"-\"*40)\n",
    "class Rect(Square):\n",
    "\tdef  __init__(self,l,b):#overridden  constructor\n",
    "\t\tprint(\"-\"*40)\n",
    "\t\tra=l*b\n",
    "\t\tprint(\"Area of Rect={}\".format(ra))\n",
    "\t\tprint(\"-\"*40)\n",
    "\t\tCircle.__init__(self,float(input(\"Enter Radious:\")))\n",
    "\t\tSquare.__init__(self,float(input(\"Enter Side:\")))\n",
    "\t\t\n",
    "#main program\n",
    "ro=Rect(float(input(\"Enter Length Value:\")), float(input(\"Enter Breadth Value:\")) )"
   ]
  }
 ],
 "metadata": {
  "kernelspec": {
   "display_name": "Python 3",
   "language": "python",
   "name": "python3"
  },
  "language_info": {
   "codemirror_mode": {
    "name": "ipython",
    "version": 3
   },
   "file_extension": ".py",
   "mimetype": "text/x-python",
   "name": "python",
   "nbconvert_exporter": "python",
   "pygments_lexer": "ipython3",
   "version": "3.8.5"
  }
 },
 "nbformat": 4,
 "nbformat_minor": 4
}
