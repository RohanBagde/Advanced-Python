{
 "cells": [
  {
   "cell_type": "markdown",
   "metadata": {},
   "source": [
    "# polymorphism concept used"
   ]
  },
  {
   "cell_type": "markdown",
   "metadata": {},
   "source": [
    "Reusing same function def"
   ]
  },
  {
   "cell_type": "code",
   "execution_count": 3,
   "metadata": {},
   "outputs": [
    {
     "name": "stdout",
     "output_type": "stream",
     "text": [
      "drawing circle\n"
     ]
    }
   ],
   "source": [
    "#method overridingex1\n",
    "#not using overriding just for understanding purpose\n",
    "class circle:\n",
    "    def draw(self):\n",
    "        print(\"drawing circle\")\n",
    "class rect(circle):pass  #why we use pass here?\n",
    "\n",
    "#main program\n",
    "ro=rect() #here we have to call only second classname and call fun in main class\n",
    "ro.draw()"
   ]
  },
  {
   "cell_type": "code",
   "execution_count": 5,
   "metadata": {},
   "outputs": [
    {
     "name": "stdout",
     "output_type": "stream",
     "text": [
      "drawing rectangle\n",
      "-------------------\n",
      "drawing square\n"
     ]
    }
   ],
   "source": [
    "#method overridingex2\n",
    "#here we used overriding\n",
    "#method heading is same but method body is different\n",
    "class circle:\n",
    "    def draw(self): #orignal method\n",
    "        print(\"drawing circle\")\n",
    "class rect(circle): \n",
    "    def draw(self): #overriding method\n",
    "        print(\"drawing rectangle\")\n",
    "class square:\n",
    "    def draw(self):\n",
    "        print(\"drawing square\")\n",
    "#main program\n",
    "ro=rect() #here we have to call only second classname and call fun in main class\n",
    "ro.draw()\n",
    "print(\"-------------------\")\n",
    "so=square()\n",
    "so.draw()    #in output cant print circle statement how to print shown in below "
   ]
  },
  {
   "cell_type": "code",
   "execution_count": 6,
   "metadata": {},
   "outputs": [
    {
     "name": "stdout",
     "output_type": "stream",
     "text": [
      "drawing rectangle\n",
      "drawing circle\n",
      "-------------------\n",
      "drawing square\n"
     ]
    }
   ],
   "source": [
    "#method overridingex3\n",
    "#here we used overriding\n",
    "#method heading is same but method body is different\n",
    "#using super keyword we can print super class\n",
    "class circle:\n",
    "    def draw(self): #orignal method\n",
    "        print(\"drawing circle\")\n",
    "class rect(circle): \n",
    "    def draw(self): #overriding method\n",
    "        print(\"drawing rectangle\")\n",
    "        super().draw()  #super() fun call the main class\n",
    "class square:\n",
    "    def draw(self):\n",
    "        print(\"drawing square\")\n",
    "#main program\n",
    "ro=rect() #here we have to call only second classname and call fun in main class\n",
    "ro.draw()\n",
    "print(\"-------------------\")\n",
    "so=square()\n",
    "so.draw()    #in output can print circle statement using super fun"
   ]
  },
  {
   "cell_type": "markdown",
   "metadata": {},
   "source": [
    "# Method overriding using constructor"
   ]
  },
  {
   "cell_type": "code",
   "execution_count": 13,
   "metadata": {},
   "outputs": [
    {
     "name": "stdout",
     "output_type": "stream",
     "text": [
      "circle constructor\n"
     ]
    }
   ],
   "source": [
    "#method overriding ex4\n",
    "#we didnt overriding here\n",
    "#__init__ is constructor\n",
    "class circle:\n",
    "    def __init__(self):\n",
    "        print(\"circle constructor\")\n",
    "class rect(circle):pass\n",
    "#main program\n",
    "ro=rect()"
   ]
  },
  {
   "cell_type": "code",
   "execution_count": 15,
   "metadata": {},
   "outputs": [
    {
     "name": "stdout",
     "output_type": "stream",
     "text": [
      "rect constructor\n",
      "circle constructor\n"
     ]
    }
   ],
   "source": [
    "#method overriding ex4\n",
    "#we didnt overriding here\n",
    "#__init__ is constructor\n",
    "class circle:\n",
    "    def __init__(self): #orignal constructor\n",
    "        print(\"circle constructor\")\n",
    "class rect(circle):\n",
    "    def __init__(self):  #overridden constructor\n",
    "        print(\"rect constructor\")\n",
    "        super().__init__() #calling base class or main class\n",
    "#main program\n",
    "ro=rect()"
   ]
  },
  {
   "cell_type": "code",
   "execution_count": 17,
   "metadata": {},
   "outputs": [
    {
     "name": "stdout",
     "output_type": "stream",
     "text": [
      "rect constructor\n",
      "circle constructor\n"
     ]
    }
   ],
   "source": [
    "#method overriding ex4\n",
    "#we didnt overriding here\n",
    "#__init__ is constructor\n",
    "#passing parameter\n",
    "class circle:\n",
    "    def __init__(self,a,b): #orignal constructor\n",
    "        print(\"circle constructor\")\n",
    "class rect(circle):\n",
    "    def __init__(self):  #overridden constructor\n",
    "        print(\"rect constructor\")\n",
    "        super().__init__(10,20) #calling base class or main class\n",
    "#main program\n",
    "ro=rect()          #why not print parameter sir didnt tell"
   ]
  },
  {
   "cell_type": "code",
   "execution_count": 18,
   "metadata": {},
   "outputs": [
    {
     "name": "stdout",
     "output_type": "stream",
     "text": [
      "----------------------------------------\n",
      "Enter Side:10\n",
      "Area of SQuare=100.0\n",
      "----------------------------------------\n",
      "----------------------------------------\n",
      "Enter Length:20\n",
      "Enter Breadth:12\n",
      "Area of Rect=240.0\n",
      "----------------------------------------\n",
      "----------------------------------------\n",
      "Enter radious:14\n",
      "Area of Circle=615.44\n",
      "----------------------------------------\n"
     ]
    }
   ],
   "source": [
    "#write a python program which will calculate area of different figures such as reactangle, circle  and square\n",
    "#methodoverridingex3.py\n",
    "class Circle:\n",
    "\tdef  area(self): # original method\n",
    "\t\tprint(\"-\"*40)\n",
    "\t\tr=float(input(\"Enter radious:\"))\n",
    "\t\tac=3.14*r**2\n",
    "\t\tprint(\"Area of Circle={}\".format(ac))\n",
    "\t\tprint(\"-\"*40)\n",
    "class Rect(Circle):\n",
    "\tdef  area(self): # overridden method\n",
    "\t\tprint(\"-\"*40)\n",
    "\t\tl=float(input(\"Enter Length:\"))\n",
    "\t\tb=float(input(\"Enter Breadth:\"))\n",
    "\t\tar=l*b\n",
    "\t\tprint(\"Area of Rect={}\".format(ar))\n",
    "\t\tprint(\"-\"*40)\n",
    "\t\tsuper().area()\n",
    "class Square(Rect):\n",
    "\tdef  area(self):  # overridden method\n",
    "\t\tprint(\"-\"*40)\n",
    "\t\ts=float(input(\"Enter Side:\"))\n",
    "\t\tsa=s**2\n",
    "\t\tprint(\"Area of SQuare={}\".format(sa))\n",
    "\t\tprint(\"-\"*40)\n",
    "\t\tsuper().area()\n",
    "\n",
    "#main program\n",
    "so=Square()\n",
    "so.area()"
   ]
  },
  {
   "cell_type": "code",
   "execution_count": null,
   "metadata": {},
   "outputs": [],
   "source": []
  }
 ],
 "metadata": {
  "kernelspec": {
   "display_name": "Python 3",
   "language": "python",
   "name": "python3"
  },
  "language_info": {
   "codemirror_mode": {
    "name": "ipython",
    "version": 3
   },
   "file_extension": ".py",
   "mimetype": "text/x-python",
   "name": "python",
   "nbconvert_exporter": "python",
   "pygments_lexer": "ipython3",
   "version": "3.8.5"
  }
 },
 "nbformat": 4,
 "nbformat_minor": 4
}
