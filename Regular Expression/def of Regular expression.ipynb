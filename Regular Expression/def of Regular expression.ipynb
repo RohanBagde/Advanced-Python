{
 "cells": [
  {
   "cell_type": "markdown",
   "metadata": {},
   "source": [
    "Regular expresssion is one of the independent concept for all language"
   ]
  },
  {
   "cell_type": "markdown",
   "metadata": {},
   "source": [
    "to deal with regular expression we must import modle called \"re\""
   ]
  },
  {
   "cell_type": "markdown",
   "metadata": {},
   "source": [
    "def:- A regular expression is one of the search pattern which is combination of alphabets,digits and symbols\n",
    "      which is sed to search data for finding desired result\n",
    "    "
   ]
  },
  {
   "cell_type": "code",
   "execution_count": null,
   "metadata": {},
   "outputs": [],
   "source": []
  },
  {
   "cell_type": "code",
   "execution_count": null,
   "metadata": {},
   "outputs": [],
   "source": []
  },
  {
   "cell_type": "markdown",
   "metadata": {},
   "source": [
    "# Type of function in regular expression"
   ]
  },
  {
   "cell_type": "markdown",
   "metadata": {},
   "source": [
    "1)finditer()\n",
    "\n",
    "2)start()\n",
    "\n",
    "3)end()\n",
    "\n",
    "4)group()\n",
    "\n",
    "5)search()\n",
    "\n",
    "6)findall()"
   ]
  },
  {
   "cell_type": "code",
   "execution_count": 4,
   "metadata": {
    "scrolled": true
   },
   "outputs": [
    {
     "name": "stdout",
     "output_type": "stream",
     "text": [
      "----------------------------------------\n",
      "Start Index:0\tEnd Index:6\t Value:Python\n",
      "Start Index:23\tEnd Index:29\t Value:Python\n",
      "----------------------------------------\n",
      "Number of occurences of 'Python'=2\n",
      "----------------------------------------\n"
     ]
    }
   ],
   "source": [
    "#reex1\n",
    "#wap which search word python and find the occrences of \"python\" word\n",
    "import re\n",
    "gd=\"Python is an oop lang. Python is functional Prog lang\"\n",
    "sp=\"Python\"\n",
    "mattab=re.finditer(sp,gd)\n",
    "noc=0\n",
    "print(\"-\"*40)\n",
    "for var in mattab:\n",
    "\tnoc=noc+1\n",
    "\tprint(\"Start Index:{}\\tEnd Index:{}\\t Value:{}\".format(var.start(),var.end(),var.group()))\n",
    "print(\"-\"*40)\n",
    "print(\"Number of occurences of '{}'={}\".format(sp,noc))\n",
    "print(\"-\"*40)"
   ]
  },
  {
   "cell_type": "code",
   "execution_count": 5,
   "metadata": {},
   "outputs": [
    {
     "name": "stdout",
     "output_type": "stream",
     "text": [
      "----------------------------------------\n",
      "Start Index:10\tEnd Index:12\t Value:an\n",
      "Start Index:18\tEnd Index:20\t Value:an\n",
      "Start Index:50\tEnd Index:52\t Value:an\n",
      "----------------------------------------\n",
      "Number of occurences of 'an'=3\n",
      "----------------------------------------\n"
     ]
    }
   ],
   "source": [
    "#reex2 \n",
    "#wap which search word \"an\" and find the occrences of \"an\" word\n",
    "import re\n",
    "gd=\"Python is an oop lang. Python is functional Prog lang\"\n",
    "sp=\"an\"\n",
    "mattab=re.finditer(sp,gd)\n",
    "noc=0\n",
    "print(\"-\"*40)\n",
    "for var in mattab:\n",
    "\tnoc=noc+1\n",
    "\tprint(\"Start Index:{}\\tEnd Index:{}\\t Value:{}\"\n",
    "          .format(var.start(),var.end(),var.group()))\n",
    "print(\"-\"*40)\n",
    "print(\"Number of occurences of '{}'={}\".format(sp,noc))\n",
    "print(\"-\"*40)"
   ]
  },
  {
   "cell_type": "code",
   "execution_count": null,
   "metadata": {},
   "outputs": [],
   "source": []
  }
 ],
 "metadata": {
  "kernelspec": {
   "display_name": "Python 3",
   "language": "python",
   "name": "python3"
  },
  "language_info": {
   "codemirror_mode": {
    "name": "ipython",
    "version": 3
   },
   "file_extension": ".py",
   "mimetype": "text/x-python",
   "name": "python",
   "nbconvert_exporter": "python",
   "pygments_lexer": "ipython3",
   "version": "3.8.5"
  }
 },
 "nbformat": 4,
 "nbformat_minor": 4
}
