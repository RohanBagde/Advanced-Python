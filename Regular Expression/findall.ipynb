{
 "cells": [
  {
   "cell_type": "markdown",
   "metadata": {},
   "source": [
    "# Findall"
   ]
  },
  {
   "cell_type": "code",
   "execution_count": null,
   "metadata": {},
   "outputs": [],
   "source": [
    "#findall didnt give index"
   ]
  },
  {
   "cell_type": "code",
   "execution_count": 5,
   "metadata": {},
   "outputs": [
    {
     "name": "stdout",
     "output_type": "stream",
     "text": [
      "Python\n",
      "No.of Occrences=2\n",
      "Python\n",
      "No.of Occrences=2\n"
     ]
    }
   ],
   "source": [
    "#reex1\n",
    "#wap which search word python and find the occrences of \"python\" word\n",
    "import re\n",
    "gd=\"Python is an oop lang. Python is functional Prog lang\"\n",
    "sp=\"Python\"\n",
    "mattab=re.findall(sp,gd)\n",
    "for val in mattab:\n",
    "    print(val)\n",
    "    print(\"No.of Occrences={}\".format(len(mattab)))"
   ]
  },
  {
   "cell_type": "markdown",
   "metadata": {},
   "source": [
    "# Search"
   ]
  },
  {
   "cell_type": "code",
   "execution_count": null,
   "metadata": {},
   "outputs": [],
   "source": [
    "#search will find first match only"
   ]
  },
  {
   "cell_type": "code",
   "execution_count": 6,
   "metadata": {},
   "outputs": [
    {
     "name": "stdout",
     "output_type": "stream",
     "text": [
      "<re.Match object; span=(0, 6), match='Python'>\n"
     ]
    }
   ],
   "source": [
    "#reex2\n",
    "#wap which search word python and find the occrences of \"python\" word\n",
    "import re\n",
    "gd=\"Python is an oop lang. Python is functional Prog lang\"\n",
    "sp=\"Python\"\n",
    "result=re.search(sp,gd)\n",
    "print(result)"
   ]
  },
  {
   "cell_type": "code",
   "execution_count": 7,
   "metadata": {},
   "outputs": [
    {
     "name": "stdout",
     "output_type": "stream",
     "text": [
      "Enter a line of text:rohan is an programmer\n",
      "Enter a word to search in a line of text:dank\n",
      "Search is Un-Sucessful!\n"
     ]
    }
   ],
   "source": [
    "#searchword.py\n",
    "import re\n",
    "line=input(\"Enter a line of text:\")\n",
    "word=input(\"Enter a word to search in a line of text:\")\n",
    "result=re.search(word,line)\n",
    "if(result!=None):\n",
    "\tprint(\"Search is successful...!\")\n",
    "else:\n",
    "\tprint(\"Search is Un-Sucessful!\")\n",
    "\n"
   ]
  },
  {
   "cell_type": "code",
   "execution_count": 8,
   "metadata": {},
   "outputs": [
    {
     "name": "stdout",
     "output_type": "stream",
     "text": [
      "enter ur mobile number:1425263545\n",
      "Ur Mobile Number is valid\n"
     ]
    }
   ],
   "source": [
    "#mobilevalidation.py\n",
    "import re\n",
    "while(True):\n",
    "\tmno=input(\"enter ur mobile number:\") \n",
    "\tif(len(mno)==10):\n",
    "\t\tresult=re.search(\"\\d{10}\",mno)\n",
    "\t\tif(result!=None):\n",
    "\t\t\tprint(\"Ur Mobile Number is valid\")\n",
    "\t\t\tbreak\n",
    "\t\telse:\n",
    "\t\t\tprint(\"Mobile Number is Invalid\")\n",
    "\telse:\n",
    "\t\tprint(\"Mobile Number should Contain 10 digits\")\n",
    " "
   ]
  },
  {
   "cell_type": "code",
   "execution_count": null,
   "metadata": {},
   "outputs": [],
   "source": [
    "#namesmarksex1.py\n",
    "import re\n",
    "studdata=\"Rossum got 55 marks , Gosling got 33 marks , Ritche got 88 marks , Travis got 55 and Kinney got 88 marks\"\n",
    "print(\"-\"*40)\n",
    "print(\"Names of Students\")\n",
    "print(\"-\"*40)\n",
    "\"\"\"mattab=re.finditer(\"[A-Z][a-z]+\",studdata)\n",
    "for name in mattab:\n",
    "\tprint(\"\\t{}\".format(name.group()))\"\"\"  # (OR)\n",
    "namestab=re.findall(\"[A-Z][a-z]+\",studdata)\n",
    "for name in namestab:\n",
    "\tprint(\"\\t{}\".format(name))\n",
    "print(\"-\"*40)\n",
    "print(\"Marks of Students\")\n",
    "print(\"-\"*40)\n",
    "markstab=re.findall(\"\\d{2}\",studdata)\n",
    "for marks in markstab:\n",
    "\tprint(\"\\t{}\".format(marks))\n",
    "print(\"-\"*40)\n",
    "print(\"\\tNames\\t\\tMarks\")\n",
    "print(\"-\"*40)\n",
    "for name,marks in zip(namestab,markstab):\n",
    "\tprint(\"\\t{}\\t\\t{}\".format(name,marks))\n",
    "print(\"-\"*40)      "
   ]
  },
  {
   "cell_type": "code",
   "execution_count": 9,
   "metadata": {},
   "outputs": [
    {
     "name": "stdout",
     "output_type": "stream",
     "text": [
      "File does not exists\n"
     ]
    }
   ],
   "source": [
    "#namesmarksex2.py\n",
    "import re\n",
    "try:\n",
    "\twith open(\"stud.info\",\"r\") as fp:\n",
    "\t\tfiledata=fp.read()\n",
    "\t\tprint(\"-\"*40)\n",
    "\t\tprint(\"Names of Students\")\n",
    "\t\tprint(\"-\"*40)\n",
    "\t\tnamestab=re.findall(\"[A-Z][a-z]+\",filedata)\n",
    "\t\tfor name in namestab:\n",
    "\t\t\tprint(\"\\t{}\".format(name))\n",
    "\t\tprint(\"-\"*40)\n",
    "\t\tprint(\"Marks of Students\")\n",
    "\t\tprint(\"-\"*40)\n",
    "\t\tmarkstab=re.findall(\"\\d{2}.\\d{2}\",filedata)\n",
    "\t\tfor marks in markstab:\n",
    "\t\t\tprint(\"\\t{}\".format(marks))\n",
    "\t\tprint(\"-\"*40)\n",
    "\t\tprint(\"\\tNames\\t\\tMarks\")\n",
    "\t\tprint(\"-\"*40)\n",
    "\t\tfor name,marks in zip(namestab,markstab):\n",
    "\t\t\tprint(\"\\t{}\\t\\t{}\".format(name,marks))\n",
    "\t\tprint(\"-\"*40)\n",
    "except FileNotFoundError:\n",
    "\tprint(\"File does not exists\")"
   ]
  },
  {
   "cell_type": "code",
   "execution_count": null,
   "metadata": {},
   "outputs": [],
   "source": []
  },
  {
   "cell_type": "code",
   "execution_count": null,
   "metadata": {},
   "outputs": [],
   "source": []
  }
 ],
 "metadata": {
  "kernelspec": {
   "display_name": "Python 3",
   "language": "python",
   "name": "python3"
  },
  "language_info": {
   "codemirror_mode": {
    "name": "ipython",
    "version": 3
   },
   "file_extension": ".py",
   "mimetype": "text/x-python",
   "name": "python",
   "nbconvert_exporter": "python",
   "pygments_lexer": "ipython3",
   "version": "3.8.5"
  }
 },
 "nbformat": 4,
 "nbformat_minor": 4
}
