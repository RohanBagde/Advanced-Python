{
 "cells": [
  {
   "cell_type": "markdown",
   "metadata": {},
   "source": [
    "# Additional Information in Regular expression"
   ]
  },
  {
   "cell_type": "markdown",
   "metadata": {},
   "source": [
    "Note1:-     \\d---->1  digit\n",
    "\n",
    "            \\dd--->2 digits\n",
    "            \n",
    "\t\t    \\d{10}--->Searches for 10 digit number\n",
    "            \n",
    "Note2:-     \\d{2}.\\d{2}--->searches for deciaml numbers xx.xx"
   ]
  },
  {
   "cell_type": "markdown",
   "metadata": {},
   "source": [
    "# Quantifier in Regular expression"
   ]
  },
  {
   "cell_type": "markdown",
   "metadata": {},
   "source": [
    "1)  'a'------->seaches for exactly one 'a'\n",
    "\n",
    "2)  'a+'----->Searches for either one 'a' or more 'a'\n",
    "\n",
    "3)  'a*'----->Searches for either zero 'a' or one 'a' or more 'a' .\n",
    "\n",
    "4)  '.'------>search for all "
   ]
  },
  {
   "cell_type": "code",
   "execution_count": 6,
   "metadata": {},
   "outputs": [
    {
     "name": "stdout",
     "output_type": "stream",
     "text": [
      "Start index=0\tEnd index=1\tValue=a\n",
      "Start index=2\tEnd index=3\tValue=a\n",
      "Start index=3\tEnd index=4\tValue=a\n",
      "Start index=5\tEnd index=6\tValue=a\n",
      "Start index=6\tEnd index=7\tValue=a\n",
      "Start index=7\tEnd index=8\tValue=a\n",
      "Start index=9\tEnd index=10\tValue=a\n"
     ]
    }
   ],
   "source": [
    "#Qanrex1\n",
    "# searching for exactly one 'a'\n",
    "\n",
    "\n",
    "\n",
    "import re\n",
    "mattab=re.finditer(\"a\",\"abaabaaabab\")\n",
    "for var in mattab:\n",
    "    print(\"Start index={}\\tEnd index={}\\tValue={}\".format(var.start(),var.end(),var.group()))\n"
   ]
  },
  {
   "cell_type": "code",
   "execution_count": 10,
   "metadata": {},
   "outputs": [
    {
     "name": "stdout",
     "output_type": "stream",
     "text": [
      "Start index=0\tEnd index=1\tValue=a\n",
      "Start index=1\tEnd index=1\tValue=\n",
      "Start index=2\tEnd index=4\tValue=aa\n",
      "Start index=4\tEnd index=4\tValue=\n",
      "Start index=5\tEnd index=8\tValue=aaa\n",
      "Start index=8\tEnd index=8\tValue=\n",
      "Start index=9\tEnd index=10\tValue=a\n",
      "Start index=10\tEnd index=10\tValue=\n",
      "Start index=11\tEnd index=11\tValue=\n"
     ]
    }
   ],
   "source": [
    "#Qanrex2\n",
    "#'a+'----->Searches for either one 'a' or more 'a'\n",
    "import re\n",
    "mattab=re.finditer(\"a*\",\"abaabaaabab\")\n",
    "for var in mattab:\n",
    "    print(\"Start index={}\\tEnd index={}\\tValue={}\".format(var.start(),var.end(),var.group()))\n"
   ]
  },
  {
   "cell_type": "code",
   "execution_count": 8,
   "metadata": {},
   "outputs": [
    {
     "name": "stdout",
     "output_type": "stream",
     "text": [
      "Start index=0\tEnd index=1\tValue=a\n",
      "Start index=2\tEnd index=4\tValue=aa\n",
      "Start index=5\tEnd index=8\tValue=aaa\n",
      "Start index=9\tEnd index=10\tValue=a\n"
     ]
    }
   ],
   "source": [
    "#Qanrex3\n",
    "#3) 'a*'----->Searches for either zero 'a' or one 'a' or more 'a' \n",
    "import re\n",
    "mattab=re.finditer(\"a+\",\"abaabaaabab\")\n",
    "for var in mattab:\n",
    "    print(\"Start index={}\\tEnd index={}\\tValue={}\".format(var.start(),var.end(),var.group()))\n"
   ]
  },
  {
   "cell_type": "code",
   "execution_count": 12,
   "metadata": {},
   "outputs": [
    {
     "name": "stdout",
     "output_type": "stream",
     "text": [
      "Start index=0\tEnd index=1\tValue=a\n",
      "Start index=1\tEnd index=2\tValue=b\n",
      "Start index=2\tEnd index=3\tValue=a\n",
      "Start index=3\tEnd index=4\tValue=a\n",
      "Start index=4\tEnd index=5\tValue=b\n",
      "Start index=5\tEnd index=6\tValue=a\n",
      "Start index=6\tEnd index=7\tValue=a\n",
      "Start index=7\tEnd index=8\tValue=a\n",
      "Start index=8\tEnd index=9\tValue=b\n",
      "Start index=9\tEnd index=10\tValue=a\n",
      "Start index=10\tEnd index=11\tValue=b\n"
     ]
    }
   ],
   "source": [
    "#Qanrex4\n",
    "#4) '.'------>search for all\n",
    "import re\n",
    "mattab=re.finditer(\".\",\"abaabaaabab\")\n",
    "for var in mattab:\n",
    "    print(\"Start index={}\\tEnd index={}\\tValue={}\".format(var.start(),var.end(),var.group()))\n"
   ]
  },
  {
   "cell_type": "code",
   "execution_count": null,
   "metadata": {},
   "outputs": [],
   "source": []
  }
 ],
 "metadata": {
  "kernelspec": {
   "display_name": "Python 3",
   "language": "python",
   "name": "python3"
  },
  "language_info": {
   "codemirror_mode": {
    "name": "ipython",
    "version": 3
   },
   "file_extension": ".py",
   "mimetype": "text/x-python",
   "name": "python",
   "nbconvert_exporter": "python",
   "pygments_lexer": "ipython3",
   "version": "3.8.5"
  }
 },
 "nbformat": 4,
 "nbformat_minor": 4
}
