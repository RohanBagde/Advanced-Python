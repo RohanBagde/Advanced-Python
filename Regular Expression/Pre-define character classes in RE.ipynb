{
 "cells": [
  {
   "cell_type": "markdown",
   "metadata": {},
   "source": [
    "Pre-Defined Character Classes are already developed by Python langauge Developers and available in Python language and They are used for preparing search "
   ]
  },
  {
   "cell_type": "markdown",
   "metadata": {},
   "source": [
    "# syntax:- \"\\pre=define character class\""
   ]
  },
  {
   "cell_type": "markdown",
   "metadata": {},
   "source": [
    "1) \\s----------->Searching for space character only\n",
    "\n",
    "2) \\S---------->Searching for all except space character \n",
    "\n",
    "3) \\w---------->Searching for word character (or) [A-Za-z0-9]\n",
    "\n",
    "4) \\W--------->Searching for special Symbols (or) [^A-Za-z0-9]\n",
    "\n",
    "5)\\d---------->Searching for digit only"
   ]
  },
  {
   "cell_type": "code",
   "execution_count": 1,
   "metadata": {},
   "outputs": [
    {
     "name": "stdout",
     "output_type": "stream",
     "text": [
      "----------------------------------------\n",
      "Start Index:0\tEnd Index:1\tValue: \n",
      "Start Index:10\tEnd Index:11\tValue: \n",
      "----------------------------------------\n"
     ]
    }
   ],
   "source": [
    "#regexpr1.py\n",
    "#program for Searching for space characters\n",
    "import re\n",
    "restab=re.finditer(\"\\s\",\" A&3^aUZ8b @3EcWP^6zfQk\")\n",
    "print(\"-\"*40)\n",
    "for var in restab:\n",
    "\tprint(\"Start Index:{}\\tEnd Index:{}\\tValue:{}\".format(var.start(),var.end(),var.group()))\n",
    "print(\"-\"*40)"
   ]
  },
  {
   "cell_type": "code",
   "execution_count": 3,
   "metadata": {},
   "outputs": [
    {
     "name": "stdout",
     "output_type": "stream",
     "text": [
      "----------------------------------------\n",
      "Start Index:1\tEnd Index:2\tValue:A\n",
      "Start Index:2\tEnd Index:3\tValue:&\n",
      "Start Index:3\tEnd Index:4\tValue:3\n",
      "Start Index:4\tEnd Index:5\tValue:^\n",
      "Start Index:5\tEnd Index:6\tValue:a\n",
      "Start Index:6\tEnd Index:7\tValue:U\n",
      "Start Index:7\tEnd Index:8\tValue:Z\n",
      "Start Index:8\tEnd Index:9\tValue:8\n",
      "Start Index:9\tEnd Index:10\tValue:b\n",
      "Start Index:11\tEnd Index:12\tValue:@\n",
      "Start Index:12\tEnd Index:13\tValue:3\n",
      "Start Index:13\tEnd Index:14\tValue:E\n",
      "Start Index:14\tEnd Index:15\tValue:c\n",
      "Start Index:15\tEnd Index:16\tValue:W\n",
      "Start Index:16\tEnd Index:17\tValue:P\n",
      "Start Index:17\tEnd Index:18\tValue:^\n",
      "Start Index:18\tEnd Index:19\tValue:6\n",
      "Start Index:19\tEnd Index:20\tValue:z\n",
      "Start Index:20\tEnd Index:21\tValue:f\n",
      "Start Index:21\tEnd Index:22\tValue:Q\n",
      "Start Index:22\tEnd Index:23\tValue:k\n",
      "----------------------------------------\n"
     ]
    }
   ],
   "source": [
    "#regexpr19.py\n",
    "#program for Searching for all except space characters\n",
    "import re\n",
    "restab=re.finditer(\"\\S\",\" A&3^aUZ8b @3EcWP^6zfQk\")\n",
    "print(\"-\"*40)\n",
    "for var in restab:\n",
    "\tprint(\"Start Index:{}\\tEnd Index:{}\\tValue:{}\".format(var.start(),var.end(),var.group()))\n",
    "print(\"-\"*40)"
   ]
  },
  {
   "cell_type": "code",
   "execution_count": 4,
   "metadata": {},
   "outputs": [
    {
     "name": "stdout",
     "output_type": "stream",
     "text": [
      "----------------------------------------\n",
      "Start Index:1\tEnd Index:2\tValue:A\n",
      "Start Index:3\tEnd Index:4\tValue:3\n",
      "Start Index:5\tEnd Index:6\tValue:a\n",
      "Start Index:6\tEnd Index:7\tValue:U\n",
      "Start Index:7\tEnd Index:8\tValue:Z\n",
      "Start Index:8\tEnd Index:9\tValue:8\n",
      "Start Index:9\tEnd Index:10\tValue:b\n",
      "Start Index:12\tEnd Index:13\tValue:3\n",
      "Start Index:13\tEnd Index:14\tValue:E\n",
      "Start Index:14\tEnd Index:15\tValue:c\n",
      "Start Index:15\tEnd Index:16\tValue:W\n",
      "Start Index:16\tEnd Index:17\tValue:P\n",
      "Start Index:18\tEnd Index:19\tValue:6\n",
      "Start Index:19\tEnd Index:20\tValue:z\n",
      "Start Index:20\tEnd Index:21\tValue:f\n",
      "Start Index:21\tEnd Index:22\tValue:Q\n",
      "Start Index:22\tEnd Index:23\tValue:k\n",
      "----------------------------------------\n"
     ]
    }
   ],
   "source": [
    "#regexpr20.py\n",
    "#program for Searching for a word character\n",
    "import re\n",
    "restab=re.finditer(\"\\w\",\" A&3^aUZ8b @3EcWP^6zfQk\")\n",
    "print(\"-\"*40)\n",
    "for var in restab:\n",
    "\tprint(\"Start Index:{}\\tEnd Index:{}\\tValue:{}\".format(var.start(),var.end(),var.group()))\n",
    "print(\"-\"*40)"
   ]
  },
  {
   "cell_type": "code",
   "execution_count": 2,
   "metadata": {},
   "outputs": [
    {
     "name": "stdout",
     "output_type": "stream",
     "text": [
      "----------------------------------------\n",
      "Start Index:0\tEnd Index:1\tValue: \n",
      "Start Index:2\tEnd Index:3\tValue:&\n",
      "Start Index:4\tEnd Index:5\tValue:^\n",
      "Start Index:10\tEnd Index:11\tValue: \n",
      "Start Index:11\tEnd Index:12\tValue:@\n",
      "Start Index:17\tEnd Index:18\tValue:^\n",
      "----------------------------------------\n"
     ]
    }
   ],
   "source": [
    "#regexpr21.py\n",
    "#program for Searching for special characters\n",
    "import re\n",
    "restab=re.finditer(\"\\W\",\" A&3^aUZ8b @3EcWP^6zfQk\")\n",
    "print(\"-\"*40)\n",
    "for var in restab:\n",
    "\tprint(\"Start Index:{}\\tEnd Index:{}\\tValue:{}\".format(var.start(),var.end(),var.group()))\n",
    "print(\"-\"*40)"
   ]
  },
  {
   "cell_type": "code",
   "execution_count": 5,
   "metadata": {},
   "outputs": [
    {
     "name": "stdout",
     "output_type": "stream",
     "text": [
      "----------------------------------------\n",
      "Start Index:3\tEnd Index:4\tValue:3\n",
      "Start Index:8\tEnd Index:9\tValue:8\n",
      "Start Index:12\tEnd Index:13\tValue:3\n",
      "Start Index:18\tEnd Index:19\tValue:6\n",
      "----------------------------------------\n"
     ]
    }
   ],
   "source": [
    "#regexpr21.py\n",
    "#program for Searching for digits\n",
    "import re\n",
    "restab=re.finditer(\"\\d\",\" A&3^aUZ8b @3EcWP^6zfQk\")\n",
    "print(\"-\"*40)\n",
    "for var in restab:\n",
    "\tprint(\"Start Index:{}\\tEnd Index:{}\\tValue:{}\".format(var.start(),var.end(),var.group()))\n",
    "print(\"-\"*40)"
   ]
  },
  {
   "cell_type": "code",
   "execution_count": null,
   "metadata": {},
   "outputs": [],
   "source": []
  }
 ],
 "metadata": {
  "kernelspec": {
   "display_name": "Python 3",
   "language": "python",
   "name": "python3"
  },
  "language_info": {
   "codemirror_mode": {
    "name": "ipython",
    "version": 3
   },
   "file_extension": ".py",
   "mimetype": "text/x-python",
   "name": "python",
   "nbconvert_exporter": "python",
   "pygments_lexer": "ipython3",
   "version": "3.8.5"
  }
 },
 "nbformat": 4,
 "nbformat_minor": 4
}
