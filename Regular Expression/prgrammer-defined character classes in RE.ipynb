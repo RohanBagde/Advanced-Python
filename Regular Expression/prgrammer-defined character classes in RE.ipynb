{
 "cells": [
  {
   "cell_type": "code",
   "execution_count": null,
   "metadata": {},
   "outputs": [],
   "source": []
  },
  {
   "cell_type": "markdown",
   "metadata": {},
   "source": [
    "=>The following are the complete programmer-defined Character Classes.\n",
    "-------------------------------------------------------------------------------------------\n",
    "1)  [abc] ----->Searching for either 'a' or 'b'  or 'c' only                             \n",
    "\n",
    "2)  [^abc]---->Serach for all  except 'a' or 'b' or 'c'  \n",
    "\n",
    "3) [a-z]------>Searching for all lower case alphabets only\n",
    "\n",
    "4) [^a-z]------>Searching for all except lower case alphabets \n",
    "\n",
    "5) [A-Z]----->Searching for all Upper case alphabets only\n",
    "\n",
    "6) [^A-Z]----->Searching for all except Upper case alphabets only\n",
    "\n",
    "7) [0-9]----->Searching for all digits only\n",
    "\n",
    "8) [^0-9]--->Searching for all except digits \n",
    "\n",
    "9)  [A-Za-z]--->Searching both Upper and Lower Case Alphabets only \n",
    "\n",
    "10) [^A-Za-z]-->searching for all except Upper and Lower Case Alphabets\n",
    "\n",
    "11) [A-Za-z0-9]-->Searching for Alphabets (upper and lower) and digits\n",
    "\n",
    "12) [^A-Za-z0-9]-->search for special symbols "
   ]
  },
  {
   "cell_type": "markdown",
   "metadata": {},
   "source": [
    "# syntax [search pattern]"
   ]
  },
  {
   "cell_type": "code",
   "execution_count": 1,
   "metadata": {},
   "outputs": [
    {
     "name": "stdout",
     "output_type": "stream",
     "text": [
      "Start Index:0\tEnd Index:1\t Value:c\n",
      "Start Index:11\tEnd Index:12\t Value:a\n",
      "Start Index:19\tEnd Index:20\t Value:a\n"
     ]
    }
   ],
   "source": [
    "#regexpr4.py\n",
    "#finding individual letters\n",
    "#searching for either a or b or c\n",
    "import re\n",
    "restab=re.finditer(\"[abc]\",\"cpython is an oop lang\")  #([letter i want to find],\"given str\")\n",
    "for var in restab:\n",
    "    print(\"Start Index:{}\\tEnd Index:{}\\t Value:{}\"\n",
    "          .format(var.start(),var.end(),var.group()))"
   ]
  },
  {
   "cell_type": "code",
   "execution_count": 2,
   "metadata": {},
   "outputs": [
    {
     "name": "stdout",
     "output_type": "stream",
     "text": [
      "----------------------------------------\n",
      "Start Index:0\tEnd Index:1\tValue:A\n",
      "Start Index:1\tEnd Index:2\tValue:&\n",
      "Start Index:2\tEnd Index:3\tValue:3\n",
      "Start Index:3\tEnd Index:4\tValue:^\n",
      "Start Index:5\tEnd Index:6\tValue:U\n",
      "Start Index:6\tEnd Index:7\tValue:Z\n",
      "Start Index:7\tEnd Index:8\tValue:8\n",
      "Start Index:9\tEnd Index:10\tValue:@\n",
      "Start Index:10\tEnd Index:11\tValue:3\n",
      "Start Index:11\tEnd Index:12\tValue:E\n",
      "Start Index:13\tEnd Index:14\tValue:W\n",
      "Start Index:14\tEnd Index:15\tValue:P\n",
      "Start Index:15\tEnd Index:16\tValue:^\n",
      "Start Index:16\tEnd Index:17\tValue:6\n",
      "Start Index:17\tEnd Index:18\tValue:Q\n",
      "Start Index:18\tEnd Index:19\tValue:k\n",
      "----------------------------------------\n"
     ]
    }
   ],
   "source": [
    "#regexpr5.py\n",
    "#program for searching every thing except 'a' or 'b' or 'c'\n",
    "import re\n",
    "restab=re.finditer(\"[^abc]\",\"A&3^aUZ8b@3EcWP^6Qk\") # \"^\" \n",
    "print(\"-\"*40)\n",
    "for var in restab:\n",
    "\tprint(\"Start Index:{}\\tEnd Index:{}\\tValue:{}\".format(var.start(),var.end(),var.group()))\n",
    "print(\"-\"*40)"
   ]
  },
  {
   "cell_type": "code",
   "execution_count": 3,
   "metadata": {},
   "outputs": [
    {
     "name": "stdout",
     "output_type": "stream",
     "text": [
      "----------------------------------------\n",
      "Start Index:4\tEnd Index:5\tValue:a\n",
      "Start Index:8\tEnd Index:9\tValue:b\n",
      "Start Index:12\tEnd Index:13\tValue:c\n",
      "Start Index:17\tEnd Index:18\tValue:z\n",
      "Start Index:18\tEnd Index:19\tValue:f\n",
      "Start Index:20\tEnd Index:21\tValue:k\n",
      "----------------------------------------\n"
     ]
    }
   ],
   "source": [
    "#regexpr8.py\n",
    "#program for searching all lower case alphabets.\n",
    "import re\n",
    "restab=re.finditer(\"[a-z]\",\"A&3^aUZ8b@3EcWP^6zfQk\")\n",
    "print(\"-\"*40)\n",
    "for var in restab:\n",
    "\tprint(\"Start Index:{}\\tEnd Index:{}\\tValue:{}\".format(var.start(),var.end(),var.group()))\n",
    "print(\"-\"*40)\n"
   ]
  },
  {
   "cell_type": "code",
   "execution_count": 4,
   "metadata": {},
   "outputs": [
    {
     "name": "stdout",
     "output_type": "stream",
     "text": [
      "----------------------------------------\n",
      "Start Index:0\tEnd Index:1\tValue:A\n",
      "Start Index:1\tEnd Index:2\tValue:&\n",
      "Start Index:2\tEnd Index:3\tValue:3\n",
      "Start Index:3\tEnd Index:4\tValue:^\n",
      "Start Index:5\tEnd Index:6\tValue:U\n",
      "Start Index:6\tEnd Index:7\tValue:Z\n",
      "Start Index:7\tEnd Index:8\tValue:8\n",
      "Start Index:9\tEnd Index:10\tValue:@\n",
      "Start Index:10\tEnd Index:11\tValue:3\n",
      "Start Index:11\tEnd Index:12\tValue:E\n",
      "Start Index:13\tEnd Index:14\tValue:W\n",
      "Start Index:14\tEnd Index:15\tValue:P\n",
      "Start Index:15\tEnd Index:16\tValue:^\n",
      "Start Index:16\tEnd Index:17\tValue:6\n",
      "Start Index:19\tEnd Index:20\tValue:Q\n",
      "----------------------------------------\n"
     ]
    }
   ],
   "source": [
    "#regexpr9.py\n",
    "#program for Searching for all except lower case alphabets\n",
    "import re\n",
    "restab=re.finditer(\"[^a-z]\",\"A&3^aUZ8b@3EcWP^6zfQk\")\n",
    "print(\"-\"*40)\n",
    "for var in restab:\n",
    "\tprint(\"Start Index:{}\\tEnd Index:{}\\tValue:{}\".format(var.start(),var.end(),var.group()))\n",
    "print(\"-\"*40)"
   ]
  },
  {
   "cell_type": "code",
   "execution_count": 5,
   "metadata": {},
   "outputs": [
    {
     "name": "stdout",
     "output_type": "stream",
     "text": [
      "----------------------------------------\n",
      "Start Index:0\tEnd Index:1\tValue:A\n",
      "Start Index:5\tEnd Index:6\tValue:U\n",
      "Start Index:6\tEnd Index:7\tValue:Z\n",
      "Start Index:11\tEnd Index:12\tValue:E\n",
      "Start Index:13\tEnd Index:14\tValue:W\n",
      "Start Index:14\tEnd Index:15\tValue:P\n",
      "Start Index:19\tEnd Index:20\tValue:Q\n",
      "----------------------------------------\n"
     ]
    }
   ],
   "source": [
    "#regexpr10.py\n",
    "#program for Searching for all upper case alphabets\n",
    "import re\n",
    "restab=re.finditer(\"[A-Z]\",\"A&3^aUZ8b@3EcWP^6zfQk\")\n",
    "print(\"-\"*40)\n",
    "for var in restab:\n",
    "\tprint(\"Start Index:{}\\tEnd Index:{}\\tValue:{}\".format(var.start(),var.end(),var.group()))\n",
    "print(\"-\"*40)"
   ]
  },
  {
   "cell_type": "code",
   "execution_count": 6,
   "metadata": {},
   "outputs": [
    {
     "name": "stdout",
     "output_type": "stream",
     "text": [
      "----------------------------------------\n",
      "Start Index:1\tEnd Index:2\tValue:&\n",
      "Start Index:2\tEnd Index:3\tValue:3\n",
      "Start Index:3\tEnd Index:4\tValue:^\n",
      "Start Index:4\tEnd Index:5\tValue:a\n",
      "Start Index:7\tEnd Index:8\tValue:8\n",
      "Start Index:8\tEnd Index:9\tValue:b\n",
      "Start Index:9\tEnd Index:10\tValue:@\n",
      "Start Index:10\tEnd Index:11\tValue:3\n",
      "Start Index:12\tEnd Index:13\tValue:c\n",
      "Start Index:15\tEnd Index:16\tValue:^\n",
      "Start Index:16\tEnd Index:17\tValue:6\n",
      "Start Index:17\tEnd Index:18\tValue:z\n",
      "Start Index:18\tEnd Index:19\tValue:f\n",
      "Start Index:20\tEnd Index:21\tValue:k\n",
      "----------------------------------------\n"
     ]
    }
   ],
   "source": [
    "#regexpr11.py\n",
    "#program for Searching for all except upper case alphabets\n",
    "import re\n",
    "restab=re.finditer(\"[^A-Z]\",\"A&3^aUZ8b@3EcWP^6zfQk\")\n",
    "print(\"-\"*40)\n",
    "for var in restab:\n",
    "\tprint(\"Start Index:{}\\tEnd Index:{}\\tValue:{}\".format(var.start(),var.end(),var.group()))\n",
    "print(\"-\"*40)\n"
   ]
  },
  {
   "cell_type": "code",
   "execution_count": 7,
   "metadata": {},
   "outputs": [
    {
     "name": "stdout",
     "output_type": "stream",
     "text": [
      "----------------------------------------\n",
      "Start Index:2\tEnd Index:3\tValue:3\n",
      "Start Index:7\tEnd Index:8\tValue:8\n",
      "Start Index:10\tEnd Index:11\tValue:3\n",
      "Start Index:16\tEnd Index:17\tValue:6\n",
      "----------------------------------------\n"
     ]
    }
   ],
   "source": [
    "#regexpr12.py\n",
    "#program for Searching for all digits only\n",
    "import re\n",
    "restab=re.finditer(\"[0-9]\",\"A&3^aUZ8b@3EcWP^6zfQk\")\n",
    "print(\"-\"*40)\n",
    "for var in restab:\n",
    "\tprint(\"Start Index:{}\\tEnd Index:{}\\tValue:{}\".format(var.start(),var.end(),var.group()))\n",
    "print(\"-\"*40)"
   ]
  },
  {
   "cell_type": "code",
   "execution_count": 8,
   "metadata": {
    "scrolled": true
   },
   "outputs": [
    {
     "name": "stdout",
     "output_type": "stream",
     "text": [
      "----------------------------------------\n",
      "Start Index:0\tEnd Index:1\tValue:A\n",
      "Start Index:1\tEnd Index:2\tValue:&\n",
      "Start Index:3\tEnd Index:4\tValue:^\n",
      "Start Index:4\tEnd Index:5\tValue:a\n",
      "Start Index:5\tEnd Index:6\tValue:U\n",
      "Start Index:6\tEnd Index:7\tValue:Z\n",
      "Start Index:8\tEnd Index:9\tValue:b\n",
      "Start Index:9\tEnd Index:10\tValue:@\n",
      "Start Index:11\tEnd Index:12\tValue:E\n",
      "Start Index:12\tEnd Index:13\tValue:c\n",
      "Start Index:13\tEnd Index:14\tValue:W\n",
      "Start Index:14\tEnd Index:15\tValue:P\n",
      "Start Index:15\tEnd Index:16\tValue:^\n",
      "Start Index:17\tEnd Index:18\tValue:z\n",
      "Start Index:18\tEnd Index:19\tValue:f\n",
      "Start Index:19\tEnd Index:20\tValue:Q\n",
      "Start Index:20\tEnd Index:21\tValue:k\n",
      "----------------------------------------\n"
     ]
    }
   ],
   "source": [
    "#regexpr13.py\n",
    "#program for Searching for all except digits \n",
    "import re\n",
    "restab=re.finditer(\"[^0-9]\",\"A&3^aUZ8b@3EcWP^6zfQk\")\n",
    "print(\"-\"*40)\n",
    "for var in restab:\n",
    "\tprint(\"Start Index:{}\\tEnd Index:{}\\tValue:{}\".format(var.start(),var.end(),var.group()))\n",
    "print(\"-\"*40)"
   ]
  },
  {
   "cell_type": "code",
   "execution_count": 9,
   "metadata": {},
   "outputs": [
    {
     "name": "stdout",
     "output_type": "stream",
     "text": [
      "----------------------------------------\n",
      "Start Index:1\tEnd Index:2\tValue:&\n",
      "Start Index:3\tEnd Index:4\tValue:^\n",
      "Start Index:6\tEnd Index:7\tValue: \n",
      "Start Index:10\tEnd Index:11\tValue:@\n",
      "Start Index:16\tEnd Index:17\tValue:^\n",
      "----------------------------------------\n"
     ]
    }
   ],
   "source": [
    "#regexpr17.py\n",
    "#program for Searching for all  special symbols\n",
    "import re\n",
    "restab=re.finditer(\"[^A-Za-z0-9]\",\"A&3^aU Z8b@3EcWP^6zfQk\")\n",
    "print(\"-\"*40)\n",
    "for var in restab:\n",
    "\tprint(\"Start Index:{}\\tEnd Index:{}\\tValue:{}\".format(var.start(),var.end(),var.group()))\n",
    "print(\"-\"*40)"
   ]
  },
  {
   "cell_type": "code",
   "execution_count": null,
   "metadata": {},
   "outputs": [],
   "source": []
  }
 ],
 "metadata": {
  "kernelspec": {
   "display_name": "Python 3",
   "language": "python",
   "name": "python3"
  },
  "language_info": {
   "codemirror_mode": {
    "name": "ipython",
    "version": 3
   },
   "file_extension": ".py",
   "mimetype": "text/x-python",
   "name": "python",
   "nbconvert_exporter": "python",
   "pygments_lexer": "ipython3",
   "version": "3.8.5"
  }
 },
 "nbformat": 4,
 "nbformat_minor": 4
}
